{
  "cells": [
    {
      "cell_type": "code",
      "execution_count": 152,
      "metadata": {
        "id": "e3KdAuGubPi-"
      },
      "outputs": [],
      "source": [
        "# data analysis and wrangling\n",
        "import pandas as pd\n",
        "import numpy as np\n",
        "import random as rnd\n",
        "\n",
        "# visualization\n",
        "import seaborn as sns\n",
        "from scipy.stats import norm, skew\n",
        "from scipy import stats\n",
        "import matplotlib.pyplot as plt\n",
        "import plotly.express as px\n",
        "\n",
        "# machine learning\n",
        "from sklearn.linear_model import LinearRegression, Lasso, Ridge, ElasticNet\n",
        "from sklearn.tree import DecisionTreeRegressor\n",
        "from sklearn.ensemble import RandomForestRegressor, GradientBoostingRegressor\n",
        "from sklearn.svm import SVR\n",
        "from sklearn.neighbors import KNeighborsRegressor\n",
        "\n",
        "## scikit modeling libraries\n",
        "from sklearn.ensemble import (RandomForestClassifier, AdaBoostClassifier,\n",
        "                             GradientBoostingClassifier, ExtraTreesClassifier,\n",
        "                             VotingClassifier)\n",
        "\n",
        "from sklearn.model_selection import (GridSearchCV, cross_val_score, cross_val_predict,\n",
        "                                     StratifiedKFold, learning_curve)\n",
        "\n",
        "## Load metrics for predictive modeling\n",
        "from sklearn.model_selection import train_test_split\n",
        "from sklearn.model_selection import cross_val_score\n",
        "from sklearn.metrics import classification_report\n",
        "from sklearn.metrics import confusion_matrix\n",
        "from sklearn.metrics import accuracy_score\n",
        "from sklearn.metrics import roc_curve, auc\n",
        "\n",
        "# Preprocessing\n",
        "from sklearn.preprocessing import StandardScaler, normalize\n",
        "from sklearn.preprocessing import LabelEncoder\n",
        "\n",
        "## Warnings and other tools\n",
        "import itertools\n",
        "import warnings\n",
        "warnings.filterwarnings(\"ignore\")\n",
        "\n",
        "# Funciones\n",
        "# from utils.funciones import rmsle_cv"
      ]
    },
    {
      "cell_type": "code",
      "execution_count": 153,
      "metadata": {
        "id": "XRWC-C0xTjRC"
      },
      "outputs": [],
      "source": [
        "#Cargar el archivo csv\n",
        "path = 'C:/THE BRIDGE_GIT/Machine_Learning/anime_score_detection_model_regresion/src/'\n",
        "train = pd.read_csv(path + \"data/processed/anime.csv\")"
      ]
    },
    {
      "cell_type": "code",
      "execution_count": 154,
      "metadata": {},
      "outputs": [],
      "source": [
        "train.rename(columns={'Unnamed: 0':'anime_id'}, inplace=True)"
      ]
    },
    {
      "cell_type": "code",
      "execution_count": 155,
      "metadata": {},
      "outputs": [
        {
          "data": {
            "text/html": [
              "<div>\n",
              "<style scoped>\n",
              "    .dataframe tbody tr th:only-of-type {\n",
              "        vertical-align: middle;\n",
              "    }\n",
              "\n",
              "    .dataframe tbody tr th {\n",
              "        vertical-align: top;\n",
              "    }\n",
              "\n",
              "    .dataframe thead th {\n",
              "        text-align: right;\n",
              "    }\n",
              "</style>\n",
              "<table border=\"1\" class=\"dataframe\">\n",
              "  <thead>\n",
              "    <tr style=\"text-align: right;\">\n",
              "      <th></th>\n",
              "      <th>anime_id</th>\n",
              "      <th>MAL_ID</th>\n",
              "      <th>Genres</th>\n",
              "      <th>Type</th>\n",
              "      <th>Episodes</th>\n",
              "      <th>Studios</th>\n",
              "      <th>Rating</th>\n",
              "      <th>Start_season</th>\n",
              "      <th>Score</th>\n",
              "      <th>range_episodes</th>\n",
              "    </tr>\n",
              "  </thead>\n",
              "  <tbody>\n",
              "    <tr>\n",
              "      <th>0</th>\n",
              "      <td>0</td>\n",
              "      <td>1</td>\n",
              "      <td>Action, Adventure, Comedy, Drama, Sci-Fi, Space</td>\n",
              "      <td>TV</td>\n",
              "      <td>26</td>\n",
              "      <td>Sunrise</td>\n",
              "      <td>R - 17+ (violence &amp; profanity)</td>\n",
              "      <td>Spring</td>\n",
              "      <td>8.78</td>\n",
              "      <td>[25 - 37]</td>\n",
              "    </tr>\n",
              "    <tr>\n",
              "      <th>1</th>\n",
              "      <td>1</td>\n",
              "      <td>5</td>\n",
              "      <td>Action, Drama, Mystery, Sci-Fi, Space</td>\n",
              "      <td>Movie</td>\n",
              "      <td>1</td>\n",
              "      <td>Bones</td>\n",
              "      <td>R - 17+ (violence &amp; profanity)</td>\n",
              "      <td>Summer</td>\n",
              "      <td>8.39</td>\n",
              "      <td>[1 - 13]</td>\n",
              "    </tr>\n",
              "  </tbody>\n",
              "</table>\n",
              "</div>"
            ],
            "text/plain": [
              "   anime_id  MAL_ID                                           Genres   Type  \\\n",
              "0         0       1  Action, Adventure, Comedy, Drama, Sci-Fi, Space     TV   \n",
              "1         1       5            Action, Drama, Mystery, Sci-Fi, Space  Movie   \n",
              "\n",
              "   Episodes  Studios                          Rating Start_season  Score  \\\n",
              "0        26  Sunrise  R - 17+ (violence & profanity)       Spring   8.78   \n",
              "1         1    Bones  R - 17+ (violence & profanity)       Summer   8.39   \n",
              "\n",
              "  range_episodes  \n",
              "0      [25 - 37]  \n",
              "1       [1 - 13]  "
            ]
          },
          "execution_count": 155,
          "metadata": {},
          "output_type": "execute_result"
        }
      ],
      "source": [
        "train.head(2)"
      ]
    },
    {
      "cell_type": "code",
      "execution_count": 156,
      "metadata": {},
      "outputs": [
        {
          "data": {
            "text/plain": [
              "array(['Spring', 'Summer', 'Fall', 'Winter'], dtype=object)"
            ]
          },
          "execution_count": 156,
          "metadata": {},
          "output_type": "execute_result"
        }
      ],
      "source": [
        "train['Start_season'].unique()"
      ]
    },
    {
      "cell_type": "markdown",
      "metadata": {},
      "source": [
        "### Genres"
      ]
    },
    {
      "cell_type": "code",
      "execution_count": 157,
      "metadata": {},
      "outputs": [],
      "source": [
        "train['anime_ids'] = train.index"
      ]
    },
    {
      "cell_type": "code",
      "execution_count": 158,
      "metadata": {},
      "outputs": [],
      "source": [
        "cleaning = train[\"Genres\"].str.split(\", \",12, expand=True)\n",
        "cleaning.columns = ['Genre_0', 'Genre_1','Genre_2', 'Genre_3','Genre_4', 'Genre_5','Genre_6', 'Genre_7','Genre_8', 'Genre_9', 'Genre_10', 'Genre_11', 'Genre_12']\n",
        "train_1 = pd.concat([train['anime_id'], cleaning], axis=1)"
      ]
    },
    {
      "cell_type": "code",
      "execution_count": 159,
      "metadata": {},
      "outputs": [
        {
          "data": {
            "text/html": [
              "<div>\n",
              "<style scoped>\n",
              "    .dataframe tbody tr th:only-of-type {\n",
              "        vertical-align: middle;\n",
              "    }\n",
              "\n",
              "    .dataframe tbody tr th {\n",
              "        vertical-align: top;\n",
              "    }\n",
              "\n",
              "    .dataframe thead th {\n",
              "        text-align: right;\n",
              "    }\n",
              "</style>\n",
              "<table border=\"1\" class=\"dataframe\">\n",
              "  <thead>\n",
              "    <tr style=\"text-align: right;\">\n",
              "      <th></th>\n",
              "      <th>anime_id</th>\n",
              "      <th>Genre</th>\n",
              "      <th>Value</th>\n",
              "    </tr>\n",
              "  </thead>\n",
              "  <tbody>\n",
              "    <tr>\n",
              "      <th>0</th>\n",
              "      <td>0</td>\n",
              "      <td>Action</td>\n",
              "      <td>1</td>\n",
              "    </tr>\n",
              "    <tr>\n",
              "      <th>1</th>\n",
              "      <td>1</td>\n",
              "      <td>Action</td>\n",
              "      <td>1</td>\n",
              "    </tr>\n",
              "    <tr>\n",
              "      <th>2</th>\n",
              "      <td>2</td>\n",
              "      <td>Action</td>\n",
              "      <td>1</td>\n",
              "    </tr>\n",
              "  </tbody>\n",
              "</table>\n",
              "</div>"
            ],
            "text/plain": [
              "   anime_id   Genre  Value\n",
              "0         0  Action      1\n",
              "1         1  Action      1\n",
              "2         2  Action      1"
            ]
          },
          "execution_count": 159,
          "metadata": {},
          "output_type": "execute_result"
        }
      ],
      "source": [
        "train_unpivoted = train_1.melt(id_vars=['anime_id'], var_name='Type_Genre', value_name='Genre')\n",
        "train_unpivoted=train_unpivoted.assign(Value=1)\n",
        "#Eliminar columnas que no se usarán para el análisis\n",
        "train_unpivoted.drop(['Type_Genre'] , axis = 1 , inplace = True)\n",
        "train_unpivoted.head(3)"
      ]
    },
    {
      "cell_type": "code",
      "execution_count": 160,
      "metadata": {},
      "outputs": [
        {
          "data": {
            "text/html": [
              "<div>\n",
              "<style scoped>\n",
              "    .dataframe tbody tr th:only-of-type {\n",
              "        vertical-align: middle;\n",
              "    }\n",
              "\n",
              "    .dataframe tbody tr th {\n",
              "        vertical-align: top;\n",
              "    }\n",
              "\n",
              "    .dataframe thead th {\n",
              "        text-align: right;\n",
              "    }\n",
              "</style>\n",
              "<table border=\"1\" class=\"dataframe\">\n",
              "  <thead>\n",
              "    <tr style=\"text-align: right;\">\n",
              "      <th></th>\n",
              "      <th>anime_id</th>\n",
              "      <th>Action</th>\n",
              "      <th>Adventure</th>\n",
              "      <th>Cars</th>\n",
              "      <th>Comedy</th>\n",
              "      <th>Dementia</th>\n",
              "      <th>Demons</th>\n",
              "      <th>Drama</th>\n",
              "      <th>Ecchi</th>\n",
              "      <th>Fantasy</th>\n",
              "      <th>...</th>\n",
              "      <th>Shounen Ai</th>\n",
              "      <th>Slice of Life</th>\n",
              "      <th>Space</th>\n",
              "      <th>Sports</th>\n",
              "      <th>Super Power</th>\n",
              "      <th>Supernatural</th>\n",
              "      <th>Thriller</th>\n",
              "      <th>Vampire</th>\n",
              "      <th>Yaoi</th>\n",
              "      <th>Yuri</th>\n",
              "    </tr>\n",
              "  </thead>\n",
              "  <tbody>\n",
              "    <tr>\n",
              "      <th>0</th>\n",
              "      <td>0</td>\n",
              "      <td>1</td>\n",
              "      <td>1</td>\n",
              "      <td>0</td>\n",
              "      <td>1</td>\n",
              "      <td>0</td>\n",
              "      <td>0</td>\n",
              "      <td>1</td>\n",
              "      <td>0</td>\n",
              "      <td>0</td>\n",
              "      <td>...</td>\n",
              "      <td>0</td>\n",
              "      <td>0</td>\n",
              "      <td>1</td>\n",
              "      <td>0</td>\n",
              "      <td>0</td>\n",
              "      <td>0</td>\n",
              "      <td>0</td>\n",
              "      <td>0</td>\n",
              "      <td>0</td>\n",
              "      <td>0</td>\n",
              "    </tr>\n",
              "    <tr>\n",
              "      <th>1</th>\n",
              "      <td>1</td>\n",
              "      <td>1</td>\n",
              "      <td>0</td>\n",
              "      <td>0</td>\n",
              "      <td>0</td>\n",
              "      <td>0</td>\n",
              "      <td>0</td>\n",
              "      <td>1</td>\n",
              "      <td>0</td>\n",
              "      <td>0</td>\n",
              "      <td>...</td>\n",
              "      <td>0</td>\n",
              "      <td>0</td>\n",
              "      <td>1</td>\n",
              "      <td>0</td>\n",
              "      <td>0</td>\n",
              "      <td>0</td>\n",
              "      <td>0</td>\n",
              "      <td>0</td>\n",
              "      <td>0</td>\n",
              "      <td>0</td>\n",
              "    </tr>\n",
              "    <tr>\n",
              "      <th>2</th>\n",
              "      <td>2</td>\n",
              "      <td>1</td>\n",
              "      <td>1</td>\n",
              "      <td>0</td>\n",
              "      <td>1</td>\n",
              "      <td>0</td>\n",
              "      <td>0</td>\n",
              "      <td>1</td>\n",
              "      <td>0</td>\n",
              "      <td>0</td>\n",
              "      <td>...</td>\n",
              "      <td>0</td>\n",
              "      <td>0</td>\n",
              "      <td>0</td>\n",
              "      <td>0</td>\n",
              "      <td>0</td>\n",
              "      <td>0</td>\n",
              "      <td>0</td>\n",
              "      <td>0</td>\n",
              "      <td>0</td>\n",
              "      <td>0</td>\n",
              "    </tr>\n",
              "  </tbody>\n",
              "</table>\n",
              "<p>3 rows × 44 columns</p>\n",
              "</div>"
            ],
            "text/plain": [
              "   anime_id  Action  Adventure  Cars  Comedy  Dementia  Demons  Drama  Ecchi  \\\n",
              "0         0       1          1     0       1         0       0      1      0   \n",
              "1         1       1          0     0       0         0       0      1      0   \n",
              "2         2       1          1     0       1         0       0      1      0   \n",
              "\n",
              "   Fantasy  ...  Shounen Ai  Slice of Life  Space  Sports  Super Power  \\\n",
              "0        0  ...           0              0      1       0            0   \n",
              "1        0  ...           0              0      1       0            0   \n",
              "2        0  ...           0              0      0       0            0   \n",
              "\n",
              "   Supernatural  Thriller  Vampire  Yaoi  Yuri  \n",
              "0             0         0        0     0     0  \n",
              "1             0         0        0     0     0  \n",
              "2             0         0        0     0     0  \n",
              "\n",
              "[3 rows x 44 columns]"
            ]
          },
          "execution_count": 160,
          "metadata": {},
          "output_type": "execute_result"
        }
      ],
      "source": [
        "train_pivoted = train_unpivoted.pivot_table(index=['anime_id'],columns=['Genre'],aggfunc='count',fill_value=0)\n",
        "train_pivoted.columns = train_pivoted.columns.droplevel(0) #remove amount\n",
        "train_pivoted = train_pivoted.reset_index().rename_axis(None, axis=1)\n",
        "train_pivoted.head(3)"
      ]
    },
    {
      "cell_type": "code",
      "execution_count": 161,
      "metadata": {},
      "outputs": [
        {
          "data": {
            "text/html": [
              "<div>\n",
              "<style scoped>\n",
              "    .dataframe tbody tr th:only-of-type {\n",
              "        vertical-align: middle;\n",
              "    }\n",
              "\n",
              "    .dataframe tbody tr th {\n",
              "        vertical-align: top;\n",
              "    }\n",
              "\n",
              "    .dataframe thead th {\n",
              "        text-align: right;\n",
              "    }\n",
              "</style>\n",
              "<table border=\"1\" class=\"dataframe\">\n",
              "  <thead>\n",
              "    <tr style=\"text-align: right;\">\n",
              "      <th></th>\n",
              "      <th>anime_id</th>\n",
              "      <th>MAL_ID</th>\n",
              "      <th>Type</th>\n",
              "      <th>Episodes</th>\n",
              "      <th>Studios</th>\n",
              "      <th>Rating</th>\n",
              "      <th>Start_season</th>\n",
              "      <th>Score</th>\n",
              "      <th>range_episodes</th>\n",
              "      <th>anime_ids</th>\n",
              "      <th>...</th>\n",
              "      <th>Shounen Ai</th>\n",
              "      <th>Slice of Life</th>\n",
              "      <th>Space</th>\n",
              "      <th>Sports</th>\n",
              "      <th>Super Power</th>\n",
              "      <th>Supernatural</th>\n",
              "      <th>Thriller</th>\n",
              "      <th>Vampire</th>\n",
              "      <th>Yaoi</th>\n",
              "      <th>Yuri</th>\n",
              "    </tr>\n",
              "  </thead>\n",
              "  <tbody>\n",
              "    <tr>\n",
              "      <th>0</th>\n",
              "      <td>0</td>\n",
              "      <td>1</td>\n",
              "      <td>TV</td>\n",
              "      <td>26</td>\n",
              "      <td>Sunrise</td>\n",
              "      <td>R - 17+ (violence &amp; profanity)</td>\n",
              "      <td>Spring</td>\n",
              "      <td>8.78</td>\n",
              "      <td>[25 - 37]</td>\n",
              "      <td>0</td>\n",
              "      <td>...</td>\n",
              "      <td>0</td>\n",
              "      <td>0</td>\n",
              "      <td>1</td>\n",
              "      <td>0</td>\n",
              "      <td>0</td>\n",
              "      <td>0</td>\n",
              "      <td>0</td>\n",
              "      <td>0</td>\n",
              "      <td>0</td>\n",
              "      <td>0</td>\n",
              "    </tr>\n",
              "    <tr>\n",
              "      <th>1</th>\n",
              "      <td>1</td>\n",
              "      <td>5</td>\n",
              "      <td>Movie</td>\n",
              "      <td>1</td>\n",
              "      <td>Bones</td>\n",
              "      <td>R - 17+ (violence &amp; profanity)</td>\n",
              "      <td>Summer</td>\n",
              "      <td>8.39</td>\n",
              "      <td>[1 - 13]</td>\n",
              "      <td>1</td>\n",
              "      <td>...</td>\n",
              "      <td>0</td>\n",
              "      <td>0</td>\n",
              "      <td>1</td>\n",
              "      <td>0</td>\n",
              "      <td>0</td>\n",
              "      <td>0</td>\n",
              "      <td>0</td>\n",
              "      <td>0</td>\n",
              "      <td>0</td>\n",
              "      <td>0</td>\n",
              "    </tr>\n",
              "  </tbody>\n",
              "</table>\n",
              "<p>2 rows × 53 columns</p>\n",
              "</div>"
            ],
            "text/plain": [
              "   anime_id  MAL_ID   Type  Episodes  Studios                          Rating  \\\n",
              "0         0       1     TV        26  Sunrise  R - 17+ (violence & profanity)   \n",
              "1         1       5  Movie         1    Bones  R - 17+ (violence & profanity)   \n",
              "\n",
              "  Start_season  Score range_episodes  anime_ids  ...  Shounen Ai  \\\n",
              "0       Spring   8.78      [25 - 37]          0  ...           0   \n",
              "1       Summer   8.39       [1 - 13]          1  ...           0   \n",
              "\n",
              "   Slice of Life  Space  Sports  Super Power  Supernatural  Thriller  Vampire  \\\n",
              "0              0      1       0            0             0         0        0   \n",
              "1              0      1       0            0             0         0        0   \n",
              "\n",
              "   Yaoi  Yuri  \n",
              "0     0     0  \n",
              "1     0     0  \n",
              "\n",
              "[2 rows x 53 columns]"
            ]
          },
          "execution_count": 161,
          "metadata": {},
          "output_type": "execute_result"
        }
      ],
      "source": [
        "train_2 = pd.merge(train, train_pivoted, on='anime_id', how='outer')\n",
        "#Eliminar columnas que no se usarán para el análisis\n",
        "train_2.drop(['Genres'] , axis = 1 , inplace = True)\n",
        "train_2.head(2)"
      ]
    },
    {
      "cell_type": "markdown",
      "metadata": {},
      "source": [
        "### Studios"
      ]
    },
    {
      "cell_type": "code",
      "execution_count": 162,
      "metadata": {},
      "outputs": [],
      "source": [
        "cleaning = train[\"Studios\"].str.split(\", \",6, expand=True)\n",
        "cleaning.columns = ['Studio_0', 'Studio_1','Studio_2', 'Studio_3','Studio_4', 'Studio_5','Studio_6']\n",
        "train_1 = pd.concat([train['anime_id'], cleaning], axis=1)"
      ]
    },
    {
      "cell_type": "code",
      "execution_count": 163,
      "metadata": {},
      "outputs": [
        {
          "data": {
            "text/html": [
              "<div>\n",
              "<style scoped>\n",
              "    .dataframe tbody tr th:only-of-type {\n",
              "        vertical-align: middle;\n",
              "    }\n",
              "\n",
              "    .dataframe tbody tr th {\n",
              "        vertical-align: top;\n",
              "    }\n",
              "\n",
              "    .dataframe thead th {\n",
              "        text-align: right;\n",
              "    }\n",
              "</style>\n",
              "<table border=\"1\" class=\"dataframe\">\n",
              "  <thead>\n",
              "    <tr style=\"text-align: right;\">\n",
              "      <th></th>\n",
              "      <th>anime_id</th>\n",
              "      <th>Studio</th>\n",
              "      <th>Value</th>\n",
              "    </tr>\n",
              "  </thead>\n",
              "  <tbody>\n",
              "    <tr>\n",
              "      <th>0</th>\n",
              "      <td>0</td>\n",
              "      <td>Sunrise</td>\n",
              "      <td>1</td>\n",
              "    </tr>\n",
              "    <tr>\n",
              "      <th>1</th>\n",
              "      <td>1</td>\n",
              "      <td>Bones</td>\n",
              "      <td>1</td>\n",
              "    </tr>\n",
              "    <tr>\n",
              "      <th>2</th>\n",
              "      <td>2</td>\n",
              "      <td>Madhouse</td>\n",
              "      <td>1</td>\n",
              "    </tr>\n",
              "  </tbody>\n",
              "</table>\n",
              "</div>"
            ],
            "text/plain": [
              "   anime_id    Studio  Value\n",
              "0         0   Sunrise      1\n",
              "1         1     Bones      1\n",
              "2         2  Madhouse      1"
            ]
          },
          "execution_count": 163,
          "metadata": {},
          "output_type": "execute_result"
        }
      ],
      "source": [
        "train_unpivoted = train_1.melt(id_vars=['anime_id'], var_name='Type_Studios', value_name='Studio')\n",
        "train_unpivoted=train_unpivoted.assign(Value=1)\n",
        "#Eliminar columnas que no se usarán para el análisis\n",
        "train_unpivoted.drop(['Type_Studios'] , axis = 1 , inplace = True)\n",
        "train_unpivoted.head(3)"
      ]
    },
    {
      "cell_type": "code",
      "execution_count": 164,
      "metadata": {},
      "outputs": [
        {
          "data": {
            "text/html": [
              "<div>\n",
              "<style scoped>\n",
              "    .dataframe tbody tr th:only-of-type {\n",
              "        vertical-align: middle;\n",
              "    }\n",
              "\n",
              "    .dataframe tbody tr th {\n",
              "        vertical-align: top;\n",
              "    }\n",
              "\n",
              "    .dataframe thead th {\n",
              "        text-align: right;\n",
              "    }\n",
              "</style>\n",
              "<table border=\"1\" class=\"dataframe\">\n",
              "  <thead>\n",
              "    <tr style=\"text-align: right;\">\n",
              "      <th></th>\n",
              "      <th>anime_id</th>\n",
              "      <th>10Gauge</th>\n",
              "      <th>2:10 AM Animation</th>\n",
              "      <th>3xCube</th>\n",
              "      <th>81 Produce</th>\n",
              "      <th>8bit</th>\n",
              "      <th>A-1 Pictures</th>\n",
              "      <th>A-Real</th>\n",
              "      <th>A.C.G.T.</th>\n",
              "      <th>ACC Production</th>\n",
              "      <th>...</th>\n",
              "      <th>feel.</th>\n",
              "      <th>helo.inc</th>\n",
              "      <th>iDRAGONS Creative Studio</th>\n",
              "      <th>ixtl</th>\n",
              "      <th>l-a-unch・BOX</th>\n",
              "      <th>monofilmo</th>\n",
              "      <th>pH Studio</th>\n",
              "      <th>production doA</th>\n",
              "      <th>teamKG</th>\n",
              "      <th>ufotable</th>\n",
              "    </tr>\n",
              "  </thead>\n",
              "  <tbody>\n",
              "    <tr>\n",
              "      <th>0</th>\n",
              "      <td>0</td>\n",
              "      <td>0</td>\n",
              "      <td>0</td>\n",
              "      <td>0</td>\n",
              "      <td>0</td>\n",
              "      <td>0</td>\n",
              "      <td>0</td>\n",
              "      <td>0</td>\n",
              "      <td>0</td>\n",
              "      <td>0</td>\n",
              "      <td>...</td>\n",
              "      <td>0</td>\n",
              "      <td>0</td>\n",
              "      <td>0</td>\n",
              "      <td>0</td>\n",
              "      <td>0</td>\n",
              "      <td>0</td>\n",
              "      <td>0</td>\n",
              "      <td>0</td>\n",
              "      <td>0</td>\n",
              "      <td>0</td>\n",
              "    </tr>\n",
              "    <tr>\n",
              "      <th>1</th>\n",
              "      <td>1</td>\n",
              "      <td>0</td>\n",
              "      <td>0</td>\n",
              "      <td>0</td>\n",
              "      <td>0</td>\n",
              "      <td>0</td>\n",
              "      <td>0</td>\n",
              "      <td>0</td>\n",
              "      <td>0</td>\n",
              "      <td>0</td>\n",
              "      <td>...</td>\n",
              "      <td>0</td>\n",
              "      <td>0</td>\n",
              "      <td>0</td>\n",
              "      <td>0</td>\n",
              "      <td>0</td>\n",
              "      <td>0</td>\n",
              "      <td>0</td>\n",
              "      <td>0</td>\n",
              "      <td>0</td>\n",
              "      <td>0</td>\n",
              "    </tr>\n",
              "    <tr>\n",
              "      <th>2</th>\n",
              "      <td>2</td>\n",
              "      <td>0</td>\n",
              "      <td>0</td>\n",
              "      <td>0</td>\n",
              "      <td>0</td>\n",
              "      <td>0</td>\n",
              "      <td>0</td>\n",
              "      <td>0</td>\n",
              "      <td>0</td>\n",
              "      <td>0</td>\n",
              "      <td>...</td>\n",
              "      <td>0</td>\n",
              "      <td>0</td>\n",
              "      <td>0</td>\n",
              "      <td>0</td>\n",
              "      <td>0</td>\n",
              "      <td>0</td>\n",
              "      <td>0</td>\n",
              "      <td>0</td>\n",
              "      <td>0</td>\n",
              "      <td>0</td>\n",
              "    </tr>\n",
              "  </tbody>\n",
              "</table>\n",
              "<p>3 rows × 638 columns</p>\n",
              "</div>"
            ],
            "text/plain": [
              "   anime_id  10Gauge  2:10 AM Animation  3xCube  81 Produce  8bit  \\\n",
              "0         0        0                  0       0           0     0   \n",
              "1         1        0                  0       0           0     0   \n",
              "2         2        0                  0       0           0     0   \n",
              "\n",
              "   A-1 Pictures  A-Real  A.C.G.T.  ACC Production  ...  feel.  helo.inc  \\\n",
              "0             0       0         0               0  ...      0         0   \n",
              "1             0       0         0               0  ...      0         0   \n",
              "2             0       0         0               0  ...      0         0   \n",
              "\n",
              "   iDRAGONS Creative Studio  ixtl  l-a-unch・BOX  monofilmo  pH Studio  \\\n",
              "0                         0     0             0          0          0   \n",
              "1                         0     0             0          0          0   \n",
              "2                         0     0             0          0          0   \n",
              "\n",
              "   production doA  teamKG  ufotable  \n",
              "0               0       0         0  \n",
              "1               0       0         0  \n",
              "2               0       0         0  \n",
              "\n",
              "[3 rows x 638 columns]"
            ]
          },
          "execution_count": 164,
          "metadata": {},
          "output_type": "execute_result"
        }
      ],
      "source": [
        "train_pivoted = train_unpivoted.pivot_table(index=['anime_id'],columns=['Studio'],aggfunc='count',fill_value=0)\n",
        "train_pivoted.columns = train_pivoted.columns.droplevel(0) #remove amount\n",
        "train_pivoted = train_pivoted.reset_index().rename_axis(None, axis=1)\n",
        "train_pivoted.head(3)"
      ]
    },
    {
      "cell_type": "code",
      "execution_count": 165,
      "metadata": {},
      "outputs": [
        {
          "data": {
            "text/html": [
              "<div>\n",
              "<style scoped>\n",
              "    .dataframe tbody tr th:only-of-type {\n",
              "        vertical-align: middle;\n",
              "    }\n",
              "\n",
              "    .dataframe tbody tr th {\n",
              "        vertical-align: top;\n",
              "    }\n",
              "\n",
              "    .dataframe thead th {\n",
              "        text-align: right;\n",
              "    }\n",
              "</style>\n",
              "<table border=\"1\" class=\"dataframe\">\n",
              "  <thead>\n",
              "    <tr style=\"text-align: right;\">\n",
              "      <th></th>\n",
              "      <th>anime_id</th>\n",
              "      <th>MAL_ID</th>\n",
              "      <th>Type</th>\n",
              "      <th>Episodes</th>\n",
              "      <th>Rating</th>\n",
              "      <th>Start_season</th>\n",
              "      <th>Score</th>\n",
              "      <th>range_episodes</th>\n",
              "      <th>anime_ids</th>\n",
              "      <th>Action</th>\n",
              "      <th>...</th>\n",
              "      <th>feel.</th>\n",
              "      <th>helo.inc</th>\n",
              "      <th>iDRAGONS Creative Studio</th>\n",
              "      <th>ixtl</th>\n",
              "      <th>l-a-unch・BOX</th>\n",
              "      <th>monofilmo</th>\n",
              "      <th>pH Studio</th>\n",
              "      <th>production doA</th>\n",
              "      <th>teamKG</th>\n",
              "      <th>ufotable</th>\n",
              "    </tr>\n",
              "  </thead>\n",
              "  <tbody>\n",
              "    <tr>\n",
              "      <th>0</th>\n",
              "      <td>0</td>\n",
              "      <td>1</td>\n",
              "      <td>TV</td>\n",
              "      <td>26</td>\n",
              "      <td>R - 17+ (violence &amp; profanity)</td>\n",
              "      <td>Spring</td>\n",
              "      <td>8.78</td>\n",
              "      <td>[25 - 37]</td>\n",
              "      <td>0</td>\n",
              "      <td>1</td>\n",
              "      <td>...</td>\n",
              "      <td>0</td>\n",
              "      <td>0</td>\n",
              "      <td>0</td>\n",
              "      <td>0</td>\n",
              "      <td>0</td>\n",
              "      <td>0</td>\n",
              "      <td>0</td>\n",
              "      <td>0</td>\n",
              "      <td>0</td>\n",
              "      <td>0</td>\n",
              "    </tr>\n",
              "    <tr>\n",
              "      <th>1</th>\n",
              "      <td>1</td>\n",
              "      <td>5</td>\n",
              "      <td>Movie</td>\n",
              "      <td>1</td>\n",
              "      <td>R - 17+ (violence &amp; profanity)</td>\n",
              "      <td>Summer</td>\n",
              "      <td>8.39</td>\n",
              "      <td>[1 - 13]</td>\n",
              "      <td>1</td>\n",
              "      <td>1</td>\n",
              "      <td>...</td>\n",
              "      <td>0</td>\n",
              "      <td>0</td>\n",
              "      <td>0</td>\n",
              "      <td>0</td>\n",
              "      <td>0</td>\n",
              "      <td>0</td>\n",
              "      <td>0</td>\n",
              "      <td>0</td>\n",
              "      <td>0</td>\n",
              "      <td>0</td>\n",
              "    </tr>\n",
              "  </tbody>\n",
              "</table>\n",
              "<p>2 rows × 689 columns</p>\n",
              "</div>"
            ],
            "text/plain": [
              "   anime_id  MAL_ID   Type  Episodes                          Rating  \\\n",
              "0         0       1     TV        26  R - 17+ (violence & profanity)   \n",
              "1         1       5  Movie         1  R - 17+ (violence & profanity)   \n",
              "\n",
              "  Start_season  Score range_episodes  anime_ids  Action  ...  feel.  helo.inc  \\\n",
              "0       Spring   8.78      [25 - 37]          0       1  ...      0         0   \n",
              "1       Summer   8.39       [1 - 13]          1       1  ...      0         0   \n",
              "\n",
              "   iDRAGONS Creative Studio  ixtl  l-a-unch・BOX  monofilmo  pH Studio  \\\n",
              "0                         0     0             0          0          0   \n",
              "1                         0     0             0          0          0   \n",
              "\n",
              "   production doA  teamKG  ufotable  \n",
              "0               0       0         0  \n",
              "1               0       0         0  \n",
              "\n",
              "[2 rows x 689 columns]"
            ]
          },
          "execution_count": 165,
          "metadata": {},
          "output_type": "execute_result"
        }
      ],
      "source": [
        "train_3 = pd.merge(train_2, train_pivoted, on='anime_id', how='outer')\n",
        "#Eliminar columnas que no se usarán para el análisis\n",
        "train_3.drop(['Studios'] , axis = 1 , inplace = True)\n",
        "train_3.head(2)"
      ]
    },
    {
      "cell_type": "markdown",
      "metadata": {},
      "source": [
        "### Otras variables categóricas"
      ]
    },
    {
      "cell_type": "code",
      "execution_count": 166,
      "metadata": {},
      "outputs": [
        {
          "data": {
            "text/html": [
              "<div>\n",
              "<style scoped>\n",
              "    .dataframe tbody tr th:only-of-type {\n",
              "        vertical-align: middle;\n",
              "    }\n",
              "\n",
              "    .dataframe tbody tr th {\n",
              "        vertical-align: top;\n",
              "    }\n",
              "\n",
              "    .dataframe thead th {\n",
              "        text-align: right;\n",
              "    }\n",
              "</style>\n",
              "<table border=\"1\" class=\"dataframe\">\n",
              "  <thead>\n",
              "    <tr style=\"text-align: right;\">\n",
              "      <th></th>\n",
              "      <th>Start_season</th>\n",
              "      <th>Type</th>\n",
              "      <th>Episodes</th>\n",
              "      <th>Rating</th>\n",
              "      <th>Score</th>\n",
              "    </tr>\n",
              "  </thead>\n",
              "  <tbody>\n",
              "    <tr>\n",
              "      <th>0</th>\n",
              "      <td>Spring</td>\n",
              "      <td>TV</td>\n",
              "      <td>26</td>\n",
              "      <td>R - 17+ (violence &amp; profanity)</td>\n",
              "      <td>8.78</td>\n",
              "    </tr>\n",
              "    <tr>\n",
              "      <th>1</th>\n",
              "      <td>Summer</td>\n",
              "      <td>Movie</td>\n",
              "      <td>1</td>\n",
              "      <td>R - 17+ (violence &amp; profanity)</td>\n",
              "      <td>8.39</td>\n",
              "    </tr>\n",
              "  </tbody>\n",
              "</table>\n",
              "</div>"
            ],
            "text/plain": [
              "  Start_season   Type  Episodes                          Rating  Score\n",
              "0       Spring     TV        26  R - 17+ (violence & profanity)   8.78\n",
              "1       Summer  Movie         1  R - 17+ (violence & profanity)   8.39"
            ]
          },
          "execution_count": 166,
          "metadata": {},
          "output_type": "execute_result"
        }
      ],
      "source": [
        "train_3 = train_3[['Start_season','Type','Episodes','Rating','Score']]\n",
        "train_3.head(2)"
      ]
    },
    {
      "cell_type": "code",
      "execution_count": 167,
      "metadata": {},
      "outputs": [
        {
          "data": {
            "text/plain": [
              "Start_season     object\n",
              "Type             object\n",
              "Episodes          int64\n",
              "Rating           object\n",
              "Score           float64\n",
              "dtype: object"
            ]
          },
          "execution_count": 167,
          "metadata": {},
          "output_type": "execute_result"
        }
      ],
      "source": [
        "train_3.dtypes"
      ]
    },
    {
      "cell_type": "code",
      "execution_count": 168,
      "metadata": {},
      "outputs": [
        {
          "data": {
            "text/plain": [
              "Start_season     True\n",
              "Type             True\n",
              "Episodes        False\n",
              "Rating           True\n",
              "Score           False\n",
              "dtype: bool"
            ]
          },
          "execution_count": 168,
          "metadata": {},
          "output_type": "execute_result"
        }
      ],
      "source": [
        "# Para convertir las categóricas en binarias debemos pasarla primero a booleanas\n",
        "# evaluando si son del tipo object o category\n",
        "categorical_feature = (train_3.dtypes == \"category\") | (train_3.dtypes == object)\n",
        "categorical_feature"
      ]
    },
    {
      "cell_type": "code",
      "execution_count": 169,
      "metadata": {},
      "outputs": [
        {
          "data": {
            "text/plain": [
              "['Start_season', 'Type', 'Rating']"
            ]
          },
          "execution_count": 169,
          "metadata": {},
          "output_type": "execute_result"
        }
      ],
      "source": [
        "categorical_cols = train_3.columns[categorical_feature].tolist()\n",
        "categorical_cols"
      ]
    },
    {
      "cell_type": "code",
      "execution_count": 170,
      "metadata": {},
      "outputs": [],
      "source": [
        "for c in categorical_cols:\n",
        "    lbl = LabelEncoder() \n",
        "    lbl.fit(list(train_3[c].values)) \n",
        "    train_3[c] = lbl.transform(list(train_3[c].values))\n"
      ]
    },
    {
      "cell_type": "code",
      "execution_count": 171,
      "metadata": {},
      "outputs": [],
      "source": [
        "# # Ver un regisro\n",
        "# is_male = train_3.loc[:, 'anime_id'] == 1\n",
        "# df_male = train_3.loc[is_male]\n",
        "# df_male.head()"
      ]
    },
    {
      "cell_type": "code",
      "execution_count": 172,
      "metadata": {},
      "outputs": [
        {
          "data": {
            "text/plain": [
              "Start_season      int32\n",
              "Type              int32\n",
              "Episodes          int64\n",
              "Rating            int32\n",
              "Score           float64\n",
              "dtype: object"
            ]
          },
          "execution_count": 172,
          "metadata": {},
          "output_type": "execute_result"
        }
      ],
      "source": [
        "train_3.dtypes"
      ]
    },
    {
      "cell_type": "code",
      "execution_count": 173,
      "metadata": {},
      "outputs": [
        {
          "data": {
            "text/plain": [
              "array([3, 2, 1, 4, 0, 5])"
            ]
          },
          "execution_count": 173,
          "metadata": {},
          "output_type": "execute_result"
        }
      ],
      "source": [
        "train_3['Rating'].unique()"
      ]
    },
    {
      "cell_type": "code",
      "execution_count": 174,
      "metadata": {},
      "outputs": [
        {
          "data": {
            "text/plain": [
              "373"
            ]
          },
          "execution_count": 174,
          "metadata": {},
          "output_type": "execute_result"
        }
      ],
      "source": [
        "train_3['Episodes'].max()"
      ]
    },
    {
      "cell_type": "markdown",
      "metadata": {},
      "source": [
        "## Seleccionar Variables"
      ]
    },
    {
      "cell_type": "code",
      "execution_count": 175,
      "metadata": {},
      "outputs": [],
      "source": [
        "# X = train_4.drop(['Score','anime_id'], axis=1)\n",
        "X = train_3.drop(['Score'], axis=1)\n",
        "y = train_3['Score']"
      ]
    },
    {
      "cell_type": "markdown",
      "metadata": {},
      "source": [
        "## Entrenar el modelo"
      ]
    },
    {
      "cell_type": "code",
      "execution_count": 176,
      "metadata": {},
      "outputs": [],
      "source": [
        "from sklearn.linear_model import ElasticNet, Lasso,  BayesianRidge, LassoLarsIC\n",
        "from sklearn.ensemble import RandomForestRegressor,  GradientBoostingRegressor\n",
        "from sklearn.kernel_ridge import KernelRidge\n",
        "from sklearn.pipeline import make_pipeline\n",
        "from sklearn.preprocessing import RobustScaler\n",
        "from sklearn.base import BaseEstimator, TransformerMixin, RegressorMixin, clone\n",
        "from sklearn.model_selection import KFold, cross_val_score, train_test_split\n",
        "from sklearn.metrics import mean_squared_error\n",
        "from sklearn.linear_model import LinearRegression\n",
        "import xgboost as xgb\n",
        "import lightgbm as lgb"
      ]
    },
    {
      "cell_type": "code",
      "execution_count": 177,
      "metadata": {},
      "outputs": [],
      "source": [
        "X_train, X_test, y_train, y_test = train_test_split(X, y, test_size = 0.20, random_state = 42)"
      ]
    },
    {
      "cell_type": "code",
      "execution_count": 178,
      "metadata": {},
      "outputs": [
        {
          "name": "stdout",
          "output_type": "stream",
          "text": [
            "X_train shape: (7260, 4) | X_test shape: (1816, 4)\n",
            "y_train mean: 6.74 | y_test mean: 6.73\n"
          ]
        }
      ],
      "source": [
        "## print informacion\n",
        "print(\"X_train shape:\", X_train.shape, \"| X_test shape:\", X_test.shape)\n",
        "print(\"y_train mean:\", round(np.mean(y_train),2), \"| y_test mean:\", round(np.mean(y_test),2))"
      ]
    },
    {
      "cell_type": "code",
      "execution_count": 179,
      "metadata": {},
      "outputs": [],
      "source": [
        "n_folds = 5\n",
        "\n",
        "def rmsle_cv(model):\n",
        "    kf = KFold(n_folds, shuffle=True, random_state=42).get_n_splits(X_train.values)\n",
        "    rmse= np.sqrt(-cross_val_score(model, X_train.values, y_train, scoring=\"neg_mean_squared_error\", cv = kf))\n",
        "    return(rmse)"
      ]
    },
    {
      "cell_type": "markdown",
      "metadata": {},
      "source": [
        "**Linear Reggression**"
      ]
    },
    {
      "cell_type": "code",
      "execution_count": 180,
      "metadata": {},
      "outputs": [],
      "source": [
        "#Linear Regression\n",
        "lm = LinearRegression()"
      ]
    },
    {
      "cell_type": "markdown",
      "metadata": {},
      "source": [
        "**Lasso Regression**"
      ]
    },
    {
      "cell_type": "code",
      "execution_count": 181,
      "metadata": {},
      "outputs": [],
      "source": [
        "lasso = make_pipeline(RobustScaler(), Lasso(alpha =0.0005, random_state=1))"
      ]
    },
    {
      "cell_type": "markdown",
      "metadata": {},
      "source": [
        "**Elastic Net Regression**"
      ]
    },
    {
      "cell_type": "code",
      "execution_count": 182,
      "metadata": {},
      "outputs": [],
      "source": [
        "ENet = make_pipeline(RobustScaler(), ElasticNet(alpha=0.0005, l1_ratio=.9, random_state=3))"
      ]
    },
    {
      "cell_type": "markdown",
      "metadata": {},
      "source": [
        "**Kernel Ridge Regression**"
      ]
    },
    {
      "cell_type": "code",
      "execution_count": 183,
      "metadata": {},
      "outputs": [],
      "source": [
        "KRR = KernelRidge(alpha=0.6, kernel='polynomial', degree=2, coef0=2.5)"
      ]
    },
    {
      "cell_type": "markdown",
      "metadata": {},
      "source": [
        "**Gradient Boosting Regression**"
      ]
    },
    {
      "cell_type": "code",
      "execution_count": 184,
      "metadata": {},
      "outputs": [],
      "source": [
        "GBoost = GradientBoostingRegressor(n_estimators=3000, learning_rate=0.05,\n",
        "                                   max_depth=4, max_features='sqrt',\n",
        "                                   min_samples_leaf=15, min_samples_split=10, \n",
        "                                   loss='huber', random_state =5)"
      ]
    },
    {
      "cell_type": "markdown",
      "metadata": {},
      "source": [
        "**DecisionTreeRegressor**"
      ]
    },
    {
      "cell_type": "code",
      "execution_count": 185,
      "metadata": {},
      "outputs": [],
      "source": [
        "Tree = DecisionTreeRegressor()"
      ]
    },
    {
      "cell_type": "markdown",
      "metadata": {},
      "source": [
        "**RandomForestRegressor**"
      ]
    },
    {
      "cell_type": "code",
      "execution_count": 186,
      "metadata": {},
      "outputs": [],
      "source": [
        "rf_model = RandomForestRegressor()"
      ]
    },
    {
      "cell_type": "markdown",
      "metadata": {},
      "source": [
        "**SVR**"
      ]
    },
    {
      "cell_type": "code",
      "execution_count": 187,
      "metadata": {},
      "outputs": [],
      "source": [
        "SVR_model = SVR()"
      ]
    },
    {
      "cell_type": "markdown",
      "metadata": {},
      "source": [
        "# Ajuste del mejor modelo y obtención de la matriz de predicciones"
      ]
    },
    {
      "cell_type": "code",
      "execution_count": 188,
      "metadata": {},
      "outputs": [
        {
          "name": "stdout",
          "output_type": "stream",
          "text": [
            "\n",
            "Linear score: 0.8067 (0.0133)\n",
            "\n"
          ]
        }
      ],
      "source": [
        "lm.fit(X_train.values,y_train.values)\n",
        "linear_pred = lm.predict(X_test.values)\n",
        "\n",
        "score = rmsle_cv(lm)\n",
        "print(\"\\nLinear score: {:.4f} ({:.4f})\\n\".format(score.mean(), score.std()))"
      ]
    },
    {
      "cell_type": "code",
      "execution_count": 189,
      "metadata": {},
      "outputs": [
        {
          "name": "stdout",
          "output_type": "stream",
          "text": [
            "\n",
            "Lasso score: 0.8067 (0.0133)\n",
            "\n"
          ]
        }
      ],
      "source": [
        "lasso.fit(X_train.values,y_train.values) #\n",
        "lasso_pred = lasso.predict(X_test.values)\n",
        "\n",
        "score = rmsle_cv(lasso)\n",
        "print(\"\\nLasso score: {:.4f} ({:.4f})\\n\".format(score.mean(), score.std()))"
      ]
    },
    {
      "cell_type": "code",
      "execution_count": 190,
      "metadata": {},
      "outputs": [
        {
          "name": "stdout",
          "output_type": "stream",
          "text": [
            "ElasticNet score: 0.8067 (0.0133)\n",
            "\n"
          ]
        }
      ],
      "source": [
        "ENet.fit(X_train.values,y_train.values) #\n",
        "ENet_pred = ENet.predict(X_test.values)\n",
        "\n",
        "score = rmsle_cv(ENet)\n",
        "print(\"ElasticNet score: {:.4f} ({:.4f})\\n\".format(score.mean(), score.std()))"
      ]
    },
    {
      "cell_type": "code",
      "execution_count": 191,
      "metadata": {},
      "outputs": [
        {
          "name": "stdout",
          "output_type": "stream",
          "text": [
            "Kernel Ridge score: 0.7653 (0.0121)\n",
            "\n"
          ]
        }
      ],
      "source": [
        "KRR.fit(X_train.values,y_train.values) #\n",
        "KRR_pred = KRR.predict(X_test.values)\n",
        "\n",
        "score = rmsle_cv(KRR)\n",
        "print(\"Kernel Ridge score: {:.4f} ({:.4f})\\n\".format(score.mean(), score.std()))"
      ]
    },
    {
      "cell_type": "code",
      "execution_count": 192,
      "metadata": {},
      "outputs": [
        {
          "name": "stdout",
          "output_type": "stream",
          "text": [
            "Gradient Boosting score: 0.7584 (0.0118)\n",
            "\n"
          ]
        }
      ],
      "source": [
        "GBoost.fit(X_train.values,y_train.values) #\n",
        "GBoost_pred = GBoost.predict(X_test.values)\n",
        "\n",
        "score = rmsle_cv(GBoost)\n",
        "print(\"Gradient Boosting score: {:.4f} ({:.4f})\\n\".format(score.mean(), score.std()))"
      ]
    },
    {
      "cell_type": "code",
      "execution_count": 193,
      "metadata": {},
      "outputs": [
        {
          "name": "stdout",
          "output_type": "stream",
          "text": [
            "\n",
            "DecisionTree score: 0.8083 (0.0090)\n",
            "\n"
          ]
        }
      ],
      "source": [
        "Tree.fit(X_train.values,y_train.values)\n",
        "tree_pred = Tree.predict(X_test.values)\n",
        "\n",
        "score = rmsle_cv(Tree)\n",
        "print(\"\\nDecisionTree score: {:.4f} ({:.4f})\\n\".format(score.mean(), score.std()))"
      ]
    },
    {
      "cell_type": "code",
      "execution_count": 194,
      "metadata": {},
      "outputs": [
        {
          "name": "stdout",
          "output_type": "stream",
          "text": [
            "\n",
            "RandomForest score: 0.7785 (0.0106)\n",
            "\n"
          ]
        }
      ],
      "source": [
        "rf_model.fit(X_train.values,y_train.values)\n",
        "rf_pred = rf_model.predict(X_test.values)\n",
        "\n",
        "score = rmsle_cv(rf_model)\n",
        "print(\"\\nRandomForest score: {:.4f} ({:.4f})\\n\".format(score.mean(), score.std()))"
      ]
    },
    {
      "cell_type": "code",
      "execution_count": 195,
      "metadata": {},
      "outputs": [
        {
          "name": "stdout",
          "output_type": "stream",
          "text": [
            "\n",
            "SVR score: 0.7809 (0.0099)\n",
            "\n"
          ]
        }
      ],
      "source": [
        "SVR_model.fit(X_train.values,y_train.values)\n",
        "SVR_pred = SVR_model.predict(X_test.values)\n",
        "\n",
        "score = rmsle_cv(SVR_model)\n",
        "print(\"\\nSVR score: {:.4f} ({:.4f})\\n\".format(score.mean(), score.std()))"
      ]
    },
    {
      "cell_type": "markdown",
      "metadata": {},
      "source": [
        "### Métricas del modelo"
      ]
    },
    {
      "cell_type": "code",
      "execution_count": 196,
      "metadata": {},
      "outputs": [],
      "source": [
        "from sklearn.metrics import mean_absolute_error as mae, mean_absolute_percentage_error as mape\n",
        "import math "
      ]
    },
    {
      "cell_type": "code",
      "execution_count": 197,
      "metadata": {},
      "outputs": [],
      "source": [
        "mae_lr = mae(y_test, linear_pred)\n",
        "mae_lasso = mae(y_test, lasso_pred)\n",
        "mae_ENet = mae(y_test, ENet_pred)\n",
        "mae_KRR = mae(y_test, KRR_pred)\n",
        "mae_GBoost = mae(y_test, GBoost_pred)\n",
        "mae_tree = mae(y_test, tree_pred)\n",
        "mae_rf = mae(y_test, rf_pred)\n",
        "mae_SRV = mae(y_test, SVR_pred)"
      ]
    },
    {
      "cell_type": "code",
      "execution_count": 198,
      "metadata": {},
      "outputs": [],
      "source": [
        "mape_lr = mape(y_test, linear_pred) * 100\n",
        "mape_lasso = mape(y_test, lasso_pred) * 100\n",
        "mape_ENet = mape(y_test, ENet_pred) * 100\n",
        "mape_KRR = mape(y_test, KRR_pred) * 100\n",
        "mape_GBoost = mape(y_test, GBoost_pred) * 100\n",
        "mape_tree = mape(y_test, tree_pred) * 100\n",
        "mape_rf = mape(y_test, rf_pred) * 100\n",
        "mape_SRV = mape(y_test, SVR_pred) * 100"
      ]
    },
    {
      "cell_type": "code",
      "execution_count": 199,
      "metadata": {},
      "outputs": [
        {
          "data": {
            "text/html": [
              "<div>\n",
              "<style scoped>\n",
              "    .dataframe tbody tr th:only-of-type {\n",
              "        vertical-align: middle;\n",
              "    }\n",
              "\n",
              "    .dataframe tbody tr th {\n",
              "        vertical-align: top;\n",
              "    }\n",
              "\n",
              "    .dataframe thead th {\n",
              "        text-align: right;\n",
              "    }\n",
              "</style>\n",
              "<table border=\"1\" class=\"dataframe\">\n",
              "  <thead>\n",
              "    <tr style=\"text-align: right;\">\n",
              "      <th></th>\n",
              "      <th>Model</th>\n",
              "      <th>MAE</th>\n",
              "      <th>MAPE(%)</th>\n",
              "    </tr>\n",
              "  </thead>\n",
              "  <tbody>\n",
              "    <tr>\n",
              "      <th>0</th>\n",
              "      <td>Linear</td>\n",
              "      <td>0.633020</td>\n",
              "      <td>9.701335</td>\n",
              "    </tr>\n",
              "    <tr>\n",
              "      <th>1</th>\n",
              "      <td>Lasso</td>\n",
              "      <td>0.633038</td>\n",
              "      <td>9.701620</td>\n",
              "    </tr>\n",
              "    <tr>\n",
              "      <th>2</th>\n",
              "      <td>ENet</td>\n",
              "      <td>0.633036</td>\n",
              "      <td>9.701592</td>\n",
              "    </tr>\n",
              "    <tr>\n",
              "      <th>3</th>\n",
              "      <td>KRR</td>\n",
              "      <td>0.585321</td>\n",
              "      <td>8.965476</td>\n",
              "    </tr>\n",
              "    <tr>\n",
              "      <th>4</th>\n",
              "      <td>Gboost</td>\n",
              "      <td>0.575527</td>\n",
              "      <td>8.826529</td>\n",
              "    </tr>\n",
              "    <tr>\n",
              "      <th>5</th>\n",
              "      <td>DecisionTree</td>\n",
              "      <td>0.618173</td>\n",
              "      <td>9.434708</td>\n",
              "    </tr>\n",
              "    <tr>\n",
              "      <th>6</th>\n",
              "      <td>RandomForest</td>\n",
              "      <td>0.597399</td>\n",
              "      <td>9.134648</td>\n",
              "    </tr>\n",
              "    <tr>\n",
              "      <th>7</th>\n",
              "      <td>SRV</td>\n",
              "      <td>0.607269</td>\n",
              "      <td>9.332770</td>\n",
              "    </tr>\n",
              "  </tbody>\n",
              "</table>\n",
              "</div>"
            ],
            "text/plain": [
              "          Model       MAE   MAPE(%)\n",
              "0        Linear  0.633020  9.701335\n",
              "1         Lasso  0.633038  9.701620\n",
              "2          ENet  0.633036  9.701592\n",
              "3           KRR  0.585321  8.965476\n",
              "4        Gboost  0.575527  8.826529\n",
              "5  DecisionTree  0.618173  9.434708\n",
              "6  RandomForest  0.597399  9.134648\n",
              "7           SRV  0.607269  9.332770"
            ]
          },
          "execution_count": 199,
          "metadata": {},
          "output_type": "execute_result"
        }
      ],
      "source": [
        "modelCol = ['Linear', 'Lasso', 'ENet', \n",
        "            'KRR','Gboost','DecisionTree','RandomForest','SRV']\n",
        "maeCol = [mae_lr, mae_lasso, mae_ENet, mae_KRR, mae_GBoost, mae_tree, mae_rf, mae_SRV]\n",
        "mapeCol = [mape_lr, mape_lasso, mape_ENet, mape_KRR, mape_GBoost, mape_tree, mape_rf, mape_SRV]\n",
        "models = pd.DataFrame({\n",
        "    'Model': modelCol,\n",
        "    'MAE': maeCol,\n",
        "    'MAPE(%)':mapeCol\n",
        "    })\n",
        "models"
      ]
    },
    {
      "cell_type": "code",
      "execution_count": 200,
      "metadata": {},
      "outputs": [
        {
          "name": "stdout",
          "output_type": "stream",
          "text": [
            "Root Mean Square Error:\n",
            "\n",
            "0.7471357451480853\n"
          ]
        }
      ],
      "source": [
        "MSE = np.square(np.subtract(y_test,rf_pred)).mean() \n",
        " \n",
        "RMSE = math.sqrt(MSE)\n",
        "print(\"Root Mean Square Error:\\n\")\n",
        "print(RMSE)"
      ]
    }
  ],
  "metadata": {
    "colab": {
      "authorship_tag": "ABX9TyNDAHHWr5PoKmlLYQA6Sqyb",
      "collapsed_sections": [],
      "include_colab_link": true,
      "name": "Anime list.ipynb",
      "provenance": []
    },
    "interpreter": {
      "hash": "181c29d4ff801b5a45d64bc34d3cfbc1fecd65c71ee2d27537cb6c0fce261355"
    },
    "kernelspec": {
      "display_name": "Python 3.7.4 64-bit",
      "language": "python",
      "name": "python3"
    },
    "language_info": {
      "codemirror_mode": {
        "name": "ipython",
        "version": 3
      },
      "file_extension": ".py",
      "mimetype": "text/x-python",
      "name": "python",
      "nbconvert_exporter": "python",
      "pygments_lexer": "ipython3",
      "version": "3.7.4"
    }
  },
  "nbformat": 4,
  "nbformat_minor": 0
}
