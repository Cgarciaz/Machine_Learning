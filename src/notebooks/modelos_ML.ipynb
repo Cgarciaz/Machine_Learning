{
  "cells": [
    {
      "cell_type": "code",
      "execution_count": 8,
      "metadata": {
        "id": "e3KdAuGubPi-"
      },
      "outputs": [],
      "source": [
        "# data analysis and wrangling\n",
        "import pandas as pd\n",
        "import numpy as np\n",
        "import random as rnd\n",
        "\n",
        "# visualization\n",
        "import seaborn as sns\n",
        "from scipy.stats import norm, skew\n",
        "from scipy import stats\n",
        "import matplotlib.pyplot as plt\n",
        "import plotly.express as px\n",
        "\n",
        "# machine learning\n",
        "from sklearn.linear_model import LogisticRegression\n",
        "from sklearn.svm import SVC\n",
        "from sklearn.svm import LinearSVC\n",
        "from sklearn.ensemble import RandomForestClassifier\n",
        "from sklearn.neighbors import KNeighborsClassifier\n",
        "from sklearn.naive_bayes import GaussianNB\n",
        "from sklearn.linear_model import Perceptron\n",
        "from sklearn.linear_model import SGDClassifier\n",
        "from sklearn.tree import DecisionTreeClassifier\n",
        "from sklearn.discriminant_analysis import LinearDiscriminantAnalysis\n",
        "from sklearn.neural_network import MLPClassifier\n",
        "\n",
        "## scikit modeling libraries\n",
        "from sklearn.ensemble import (RandomForestClassifier, AdaBoostClassifier,\n",
        "                             GradientBoostingClassifier, ExtraTreesClassifier,\n",
        "                             VotingClassifier)\n",
        "\n",
        "from sklearn.model_selection import (GridSearchCV, cross_val_score, cross_val_predict,\n",
        "                                     StratifiedKFold, learning_curve)\n",
        "\n",
        "## Load metrics for predictive modeling\n",
        "from sklearn.model_selection import train_test_split\n",
        "from sklearn.model_selection import cross_val_score\n",
        "from sklearn.metrics import classification_report\n",
        "from sklearn.metrics import confusion_matrix\n",
        "from sklearn.metrics import accuracy_score\n",
        "from sklearn.metrics import roc_curve, auc\n",
        "\n",
        "# Preprocessing\n",
        "from sklearn.preprocessing import StandardScaler, normalize\n",
        "from sklearn.preprocessing import LabelEncoder\n",
        "\n",
        "## Warnings and other tools\n",
        "import itertools\n",
        "import warnings\n",
        "warnings.filterwarnings(\"ignore\")\n",
        "\n",
        "# Funciones\n",
        "from funciones import rmsle_cv"
      ]
    },
    {
      "cell_type": "code",
      "execution_count": 9,
      "metadata": {
        "id": "XRWC-C0xTjRC"
      },
      "outputs": [],
      "source": [
        "#Cargar el archivo csv\n",
        "path = 'C:/THE BRIDGE_GIT/Machine_Learning/anime_score_detection_model_regresion/src/'\n",
        "train = pd.read_csv(path + \"data/processed/anime.csv\")"
      ]
    },
    {
      "cell_type": "code",
      "execution_count": 10,
      "metadata": {},
      "outputs": [],
      "source": [
        "train.rename(columns={'Unnamed: 0':'anime_id'}, inplace=True)"
      ]
    },
    {
      "cell_type": "code",
      "execution_count": 11,
      "metadata": {},
      "outputs": [
        {
          "data": {
            "text/html": [
              "<div>\n",
              "<style scoped>\n",
              "    .dataframe tbody tr th:only-of-type {\n",
              "        vertical-align: middle;\n",
              "    }\n",
              "\n",
              "    .dataframe tbody tr th {\n",
              "        vertical-align: top;\n",
              "    }\n",
              "\n",
              "    .dataframe thead th {\n",
              "        text-align: right;\n",
              "    }\n",
              "</style>\n",
              "<table border=\"1\" class=\"dataframe\">\n",
              "  <thead>\n",
              "    <tr style=\"text-align: right;\">\n",
              "      <th></th>\n",
              "      <th>anime_id</th>\n",
              "      <th>MAL_ID</th>\n",
              "      <th>Genres</th>\n",
              "      <th>Type</th>\n",
              "      <th>Episodes</th>\n",
              "      <th>Studios</th>\n",
              "      <th>Rating</th>\n",
              "      <th>Start_year</th>\n",
              "      <th>Start_season</th>\n",
              "      <th>Score</th>\n",
              "      <th>range_episodes</th>\n",
              "      <th>Genres_Split</th>\n",
              "      <th>Studios_Split</th>\n",
              "    </tr>\n",
              "  </thead>\n",
              "  <tbody>\n",
              "    <tr>\n",
              "      <th>0</th>\n",
              "      <td>0</td>\n",
              "      <td>1</td>\n",
              "      <td>Action, Adventure, Comedy, Drama, Sci-Fi, Space</td>\n",
              "      <td>TV</td>\n",
              "      <td>26</td>\n",
              "      <td>Sunrise</td>\n",
              "      <td>R - 17+ (violence &amp; profanity)</td>\n",
              "      <td>1998</td>\n",
              "      <td>Spring</td>\n",
              "      <td>8.78</td>\n",
              "      <td>[25 - 37]</td>\n",
              "      <td>['Action', 'Adventure', 'Comedy', 'Drama', 'Sc...</td>\n",
              "      <td>['Sunrise']</td>\n",
              "    </tr>\n",
              "    <tr>\n",
              "      <th>1</th>\n",
              "      <td>1</td>\n",
              "      <td>5</td>\n",
              "      <td>Action, Drama, Mystery, Sci-Fi, Space</td>\n",
              "      <td>Movie</td>\n",
              "      <td>1</td>\n",
              "      <td>Bones</td>\n",
              "      <td>R - 17+ (violence &amp; profanity)</td>\n",
              "      <td>2001</td>\n",
              "      <td>Summer</td>\n",
              "      <td>8.39</td>\n",
              "      <td>[1 - 13]</td>\n",
              "      <td>['Action', 'Drama', 'Mystery', 'Sci-Fi', 'Space']</td>\n",
              "      <td>['Bones']</td>\n",
              "    </tr>\n",
              "  </tbody>\n",
              "</table>\n",
              "</div>"
            ],
            "text/plain": [
              "   anime_id  ...  Studios_Split\n",
              "0         0  ...    ['Sunrise']\n",
              "1         1  ...      ['Bones']\n",
              "\n",
              "[2 rows x 13 columns]"
            ]
          },
          "execution_count": 11,
          "metadata": {},
          "output_type": "execute_result"
        }
      ],
      "source": [
        "train.head(2)"
      ]
    },
    {
      "cell_type": "code",
      "execution_count": 12,
      "metadata": {},
      "outputs": [],
      "source": [
        "#Eliminar columnas que no se usarán para el análisis\n",
        "train.drop(['Genres_Split','Studios_Split','Start_year'] , axis = 1 , inplace = True)"
      ]
    },
    {
      "cell_type": "markdown",
      "metadata": {},
      "source": [
        "### Genres"
      ]
    },
    {
      "cell_type": "code",
      "execution_count": 13,
      "metadata": {},
      "outputs": [],
      "source": [
        "cleaning = train[\"Genres\"].str.split(\", \",12, expand=True)\n",
        "cleaning.columns = ['Genre_0', 'Genre_1','Genre_2', 'Genre_3','Genre_4', 'Genre_5','Genre_6', 'Genre_7','Genre_8', 'Genre_9', 'Genre_10', 'Genre_11', 'Genre_12']\n",
        "train_1 = pd.concat([train['anime_id'], cleaning], axis=1)"
      ]
    },
    {
      "cell_type": "code",
      "execution_count": 14,
      "metadata": {},
      "outputs": [
        {
          "data": {
            "text/html": [
              "<div>\n",
              "<style scoped>\n",
              "    .dataframe tbody tr th:only-of-type {\n",
              "        vertical-align: middle;\n",
              "    }\n",
              "\n",
              "    .dataframe tbody tr th {\n",
              "        vertical-align: top;\n",
              "    }\n",
              "\n",
              "    .dataframe thead th {\n",
              "        text-align: right;\n",
              "    }\n",
              "</style>\n",
              "<table border=\"1\" class=\"dataframe\">\n",
              "  <thead>\n",
              "    <tr style=\"text-align: right;\">\n",
              "      <th></th>\n",
              "      <th>anime_id</th>\n",
              "      <th>Genre</th>\n",
              "      <th>Value</th>\n",
              "    </tr>\n",
              "  </thead>\n",
              "  <tbody>\n",
              "    <tr>\n",
              "      <th>0</th>\n",
              "      <td>0</td>\n",
              "      <td>Action</td>\n",
              "      <td>1</td>\n",
              "    </tr>\n",
              "    <tr>\n",
              "      <th>1</th>\n",
              "      <td>1</td>\n",
              "      <td>Action</td>\n",
              "      <td>1</td>\n",
              "    </tr>\n",
              "    <tr>\n",
              "      <th>2</th>\n",
              "      <td>2</td>\n",
              "      <td>Action</td>\n",
              "      <td>1</td>\n",
              "    </tr>\n",
              "  </tbody>\n",
              "</table>\n",
              "</div>"
            ],
            "text/plain": [
              "   anime_id   Genre  Value\n",
              "0         0  Action      1\n",
              "1         1  Action      1\n",
              "2         2  Action      1"
            ]
          },
          "execution_count": 14,
          "metadata": {},
          "output_type": "execute_result"
        }
      ],
      "source": [
        "train_unpivoted = train_1.melt(id_vars=['anime_id'], var_name='Type_Genre', value_name='Genre')\n",
        "train_unpivoted=train_unpivoted.assign(Value=1)\n",
        "#Eliminar columnas que no se usarán para el análisis\n",
        "train_unpivoted.drop(['Type_Genre'] , axis = 1 , inplace = True)\n",
        "train_unpivoted.head(3)"
      ]
    },
    {
      "cell_type": "code",
      "execution_count": 15,
      "metadata": {},
      "outputs": [
        {
          "data": {
            "text/html": [
              "<div>\n",
              "<style scoped>\n",
              "    .dataframe tbody tr th:only-of-type {\n",
              "        vertical-align: middle;\n",
              "    }\n",
              "\n",
              "    .dataframe tbody tr th {\n",
              "        vertical-align: top;\n",
              "    }\n",
              "\n",
              "    .dataframe thead th {\n",
              "        text-align: right;\n",
              "    }\n",
              "</style>\n",
              "<table border=\"1\" class=\"dataframe\">\n",
              "  <thead>\n",
              "    <tr style=\"text-align: right;\">\n",
              "      <th></th>\n",
              "      <th>anime_id</th>\n",
              "      <th>Action</th>\n",
              "      <th>Adventure</th>\n",
              "      <th>Cars</th>\n",
              "      <th>Comedy</th>\n",
              "      <th>Dementia</th>\n",
              "      <th>Demons</th>\n",
              "      <th>Drama</th>\n",
              "      <th>Ecchi</th>\n",
              "      <th>Fantasy</th>\n",
              "      <th>Game</th>\n",
              "      <th>Harem</th>\n",
              "      <th>Hentai</th>\n",
              "      <th>Historical</th>\n",
              "      <th>Horror</th>\n",
              "      <th>Josei</th>\n",
              "      <th>Kids</th>\n",
              "      <th>Magic</th>\n",
              "      <th>Martial Arts</th>\n",
              "      <th>Mecha</th>\n",
              "      <th>Military</th>\n",
              "      <th>Music</th>\n",
              "      <th>Mystery</th>\n",
              "      <th>Parody</th>\n",
              "      <th>Police</th>\n",
              "      <th>Psychological</th>\n",
              "      <th>Romance</th>\n",
              "      <th>Samurai</th>\n",
              "      <th>School</th>\n",
              "      <th>Sci-Fi</th>\n",
              "      <th>Seinen</th>\n",
              "      <th>Shoujo</th>\n",
              "      <th>Shoujo Ai</th>\n",
              "      <th>Shounen</th>\n",
              "      <th>Shounen Ai</th>\n",
              "      <th>Slice of Life</th>\n",
              "      <th>Space</th>\n",
              "      <th>Sports</th>\n",
              "      <th>Super Power</th>\n",
              "      <th>Supernatural</th>\n",
              "      <th>Thriller</th>\n",
              "      <th>Vampire</th>\n",
              "      <th>Yaoi</th>\n",
              "      <th>Yuri</th>\n",
              "    </tr>\n",
              "  </thead>\n",
              "  <tbody>\n",
              "    <tr>\n",
              "      <th>0</th>\n",
              "      <td>0</td>\n",
              "      <td>1</td>\n",
              "      <td>1</td>\n",
              "      <td>0</td>\n",
              "      <td>1</td>\n",
              "      <td>0</td>\n",
              "      <td>0</td>\n",
              "      <td>1</td>\n",
              "      <td>0</td>\n",
              "      <td>0</td>\n",
              "      <td>0</td>\n",
              "      <td>0</td>\n",
              "      <td>0</td>\n",
              "      <td>0</td>\n",
              "      <td>0</td>\n",
              "      <td>0</td>\n",
              "      <td>0</td>\n",
              "      <td>0</td>\n",
              "      <td>0</td>\n",
              "      <td>0</td>\n",
              "      <td>0</td>\n",
              "      <td>0</td>\n",
              "      <td>0</td>\n",
              "      <td>0</td>\n",
              "      <td>0</td>\n",
              "      <td>0</td>\n",
              "      <td>0</td>\n",
              "      <td>0</td>\n",
              "      <td>0</td>\n",
              "      <td>1</td>\n",
              "      <td>0</td>\n",
              "      <td>0</td>\n",
              "      <td>0</td>\n",
              "      <td>0</td>\n",
              "      <td>0</td>\n",
              "      <td>0</td>\n",
              "      <td>1</td>\n",
              "      <td>0</td>\n",
              "      <td>0</td>\n",
              "      <td>0</td>\n",
              "      <td>0</td>\n",
              "      <td>0</td>\n",
              "      <td>0</td>\n",
              "      <td>0</td>\n",
              "    </tr>\n",
              "    <tr>\n",
              "      <th>1</th>\n",
              "      <td>1</td>\n",
              "      <td>1</td>\n",
              "      <td>0</td>\n",
              "      <td>0</td>\n",
              "      <td>0</td>\n",
              "      <td>0</td>\n",
              "      <td>0</td>\n",
              "      <td>1</td>\n",
              "      <td>0</td>\n",
              "      <td>0</td>\n",
              "      <td>0</td>\n",
              "      <td>0</td>\n",
              "      <td>0</td>\n",
              "      <td>0</td>\n",
              "      <td>0</td>\n",
              "      <td>0</td>\n",
              "      <td>0</td>\n",
              "      <td>0</td>\n",
              "      <td>0</td>\n",
              "      <td>0</td>\n",
              "      <td>0</td>\n",
              "      <td>0</td>\n",
              "      <td>1</td>\n",
              "      <td>0</td>\n",
              "      <td>0</td>\n",
              "      <td>0</td>\n",
              "      <td>0</td>\n",
              "      <td>0</td>\n",
              "      <td>0</td>\n",
              "      <td>1</td>\n",
              "      <td>0</td>\n",
              "      <td>0</td>\n",
              "      <td>0</td>\n",
              "      <td>0</td>\n",
              "      <td>0</td>\n",
              "      <td>0</td>\n",
              "      <td>1</td>\n",
              "      <td>0</td>\n",
              "      <td>0</td>\n",
              "      <td>0</td>\n",
              "      <td>0</td>\n",
              "      <td>0</td>\n",
              "      <td>0</td>\n",
              "      <td>0</td>\n",
              "    </tr>\n",
              "    <tr>\n",
              "      <th>2</th>\n",
              "      <td>2</td>\n",
              "      <td>1</td>\n",
              "      <td>1</td>\n",
              "      <td>0</td>\n",
              "      <td>1</td>\n",
              "      <td>0</td>\n",
              "      <td>0</td>\n",
              "      <td>1</td>\n",
              "      <td>0</td>\n",
              "      <td>0</td>\n",
              "      <td>0</td>\n",
              "      <td>0</td>\n",
              "      <td>0</td>\n",
              "      <td>0</td>\n",
              "      <td>0</td>\n",
              "      <td>0</td>\n",
              "      <td>0</td>\n",
              "      <td>0</td>\n",
              "      <td>0</td>\n",
              "      <td>0</td>\n",
              "      <td>0</td>\n",
              "      <td>0</td>\n",
              "      <td>0</td>\n",
              "      <td>0</td>\n",
              "      <td>0</td>\n",
              "      <td>0</td>\n",
              "      <td>0</td>\n",
              "      <td>0</td>\n",
              "      <td>0</td>\n",
              "      <td>1</td>\n",
              "      <td>0</td>\n",
              "      <td>0</td>\n",
              "      <td>0</td>\n",
              "      <td>1</td>\n",
              "      <td>0</td>\n",
              "      <td>0</td>\n",
              "      <td>0</td>\n",
              "      <td>0</td>\n",
              "      <td>0</td>\n",
              "      <td>0</td>\n",
              "      <td>0</td>\n",
              "      <td>0</td>\n",
              "      <td>0</td>\n",
              "      <td>0</td>\n",
              "    </tr>\n",
              "  </tbody>\n",
              "</table>\n",
              "</div>"
            ],
            "text/plain": [
              "   anime_id  Action  Adventure  Cars  ...  Thriller  Vampire  Yaoi  Yuri\n",
              "0         0       1          1     0  ...         0        0     0     0\n",
              "1         1       1          0     0  ...         0        0     0     0\n",
              "2         2       1          1     0  ...         0        0     0     0\n",
              "\n",
              "[3 rows x 44 columns]"
            ]
          },
          "execution_count": 15,
          "metadata": {},
          "output_type": "execute_result"
        }
      ],
      "source": [
        "train_pivoted = train_unpivoted.pivot_table(index=['anime_id'],columns=['Genre'],aggfunc='count',fill_value=0)\n",
        "train_pivoted.columns = train_pivoted.columns.droplevel(0) #remove amount\n",
        "train_pivoted = train_pivoted.reset_index().rename_axis(None, axis=1)\n",
        "train_pivoted.head(3)"
      ]
    },
    {
      "cell_type": "code",
      "execution_count": 16,
      "metadata": {},
      "outputs": [
        {
          "data": {
            "text/html": [
              "<div>\n",
              "<style scoped>\n",
              "    .dataframe tbody tr th:only-of-type {\n",
              "        vertical-align: middle;\n",
              "    }\n",
              "\n",
              "    .dataframe tbody tr th {\n",
              "        vertical-align: top;\n",
              "    }\n",
              "\n",
              "    .dataframe thead th {\n",
              "        text-align: right;\n",
              "    }\n",
              "</style>\n",
              "<table border=\"1\" class=\"dataframe\">\n",
              "  <thead>\n",
              "    <tr style=\"text-align: right;\">\n",
              "      <th></th>\n",
              "      <th>anime_id</th>\n",
              "      <th>MAL_ID</th>\n",
              "      <th>Type</th>\n",
              "      <th>Episodes</th>\n",
              "      <th>Studios</th>\n",
              "      <th>Rating</th>\n",
              "      <th>Start_season</th>\n",
              "      <th>Score</th>\n",
              "      <th>range_episodes</th>\n",
              "      <th>Action</th>\n",
              "      <th>Adventure</th>\n",
              "      <th>Cars</th>\n",
              "      <th>Comedy</th>\n",
              "      <th>Dementia</th>\n",
              "      <th>Demons</th>\n",
              "      <th>Drama</th>\n",
              "      <th>Ecchi</th>\n",
              "      <th>Fantasy</th>\n",
              "      <th>Game</th>\n",
              "      <th>Harem</th>\n",
              "      <th>Hentai</th>\n",
              "      <th>Historical</th>\n",
              "      <th>Horror</th>\n",
              "      <th>Josei</th>\n",
              "      <th>Kids</th>\n",
              "      <th>Magic</th>\n",
              "      <th>Martial Arts</th>\n",
              "      <th>Mecha</th>\n",
              "      <th>Military</th>\n",
              "      <th>Music</th>\n",
              "      <th>Mystery</th>\n",
              "      <th>Parody</th>\n",
              "      <th>Police</th>\n",
              "      <th>Psychological</th>\n",
              "      <th>Romance</th>\n",
              "      <th>Samurai</th>\n",
              "      <th>School</th>\n",
              "      <th>Sci-Fi</th>\n",
              "      <th>Seinen</th>\n",
              "      <th>Shoujo</th>\n",
              "      <th>Shoujo Ai</th>\n",
              "      <th>Shounen</th>\n",
              "      <th>Shounen Ai</th>\n",
              "      <th>Slice of Life</th>\n",
              "      <th>Space</th>\n",
              "      <th>Sports</th>\n",
              "      <th>Super Power</th>\n",
              "      <th>Supernatural</th>\n",
              "      <th>Thriller</th>\n",
              "      <th>Vampire</th>\n",
              "      <th>Yaoi</th>\n",
              "      <th>Yuri</th>\n",
              "    </tr>\n",
              "  </thead>\n",
              "  <tbody>\n",
              "    <tr>\n",
              "      <th>0</th>\n",
              "      <td>0</td>\n",
              "      <td>1</td>\n",
              "      <td>TV</td>\n",
              "      <td>26</td>\n",
              "      <td>Sunrise</td>\n",
              "      <td>R - 17+ (violence &amp; profanity)</td>\n",
              "      <td>Spring</td>\n",
              "      <td>8.78</td>\n",
              "      <td>[25 - 37]</td>\n",
              "      <td>1</td>\n",
              "      <td>1</td>\n",
              "      <td>0</td>\n",
              "      <td>1</td>\n",
              "      <td>0</td>\n",
              "      <td>0</td>\n",
              "      <td>1</td>\n",
              "      <td>0</td>\n",
              "      <td>0</td>\n",
              "      <td>0</td>\n",
              "      <td>0</td>\n",
              "      <td>0</td>\n",
              "      <td>0</td>\n",
              "      <td>0</td>\n",
              "      <td>0</td>\n",
              "      <td>0</td>\n",
              "      <td>0</td>\n",
              "      <td>0</td>\n",
              "      <td>0</td>\n",
              "      <td>0</td>\n",
              "      <td>0</td>\n",
              "      <td>0</td>\n",
              "      <td>0</td>\n",
              "      <td>0</td>\n",
              "      <td>0</td>\n",
              "      <td>0</td>\n",
              "      <td>0</td>\n",
              "      <td>0</td>\n",
              "      <td>1</td>\n",
              "      <td>0</td>\n",
              "      <td>0</td>\n",
              "      <td>0</td>\n",
              "      <td>0</td>\n",
              "      <td>0</td>\n",
              "      <td>0</td>\n",
              "      <td>1</td>\n",
              "      <td>0</td>\n",
              "      <td>0</td>\n",
              "      <td>0</td>\n",
              "      <td>0</td>\n",
              "      <td>0</td>\n",
              "      <td>0</td>\n",
              "      <td>0</td>\n",
              "    </tr>\n",
              "    <tr>\n",
              "      <th>1</th>\n",
              "      <td>1</td>\n",
              "      <td>5</td>\n",
              "      <td>Movie</td>\n",
              "      <td>1</td>\n",
              "      <td>Bones</td>\n",
              "      <td>R - 17+ (violence &amp; profanity)</td>\n",
              "      <td>Summer</td>\n",
              "      <td>8.39</td>\n",
              "      <td>[1 - 13]</td>\n",
              "      <td>1</td>\n",
              "      <td>0</td>\n",
              "      <td>0</td>\n",
              "      <td>0</td>\n",
              "      <td>0</td>\n",
              "      <td>0</td>\n",
              "      <td>1</td>\n",
              "      <td>0</td>\n",
              "      <td>0</td>\n",
              "      <td>0</td>\n",
              "      <td>0</td>\n",
              "      <td>0</td>\n",
              "      <td>0</td>\n",
              "      <td>0</td>\n",
              "      <td>0</td>\n",
              "      <td>0</td>\n",
              "      <td>0</td>\n",
              "      <td>0</td>\n",
              "      <td>0</td>\n",
              "      <td>0</td>\n",
              "      <td>0</td>\n",
              "      <td>1</td>\n",
              "      <td>0</td>\n",
              "      <td>0</td>\n",
              "      <td>0</td>\n",
              "      <td>0</td>\n",
              "      <td>0</td>\n",
              "      <td>0</td>\n",
              "      <td>1</td>\n",
              "      <td>0</td>\n",
              "      <td>0</td>\n",
              "      <td>0</td>\n",
              "      <td>0</td>\n",
              "      <td>0</td>\n",
              "      <td>0</td>\n",
              "      <td>1</td>\n",
              "      <td>0</td>\n",
              "      <td>0</td>\n",
              "      <td>0</td>\n",
              "      <td>0</td>\n",
              "      <td>0</td>\n",
              "      <td>0</td>\n",
              "      <td>0</td>\n",
              "    </tr>\n",
              "  </tbody>\n",
              "</table>\n",
              "</div>"
            ],
            "text/plain": [
              "   anime_id  MAL_ID   Type  Episodes  ... Thriller Vampire Yaoi  Yuri\n",
              "0         0       1     TV        26  ...        0       0    0     0\n",
              "1         1       5  Movie         1  ...        0       0    0     0\n",
              "\n",
              "[2 rows x 52 columns]"
            ]
          },
          "execution_count": 16,
          "metadata": {},
          "output_type": "execute_result"
        }
      ],
      "source": [
        "train_2 = pd.merge(train, train_pivoted, on='anime_id', how='outer')\n",
        "#Eliminar columnas que no se usarán para el análisis\n",
        "train_2.drop(['Genres'] , axis = 1 , inplace = True)\n",
        "train_2.head(2)"
      ]
    },
    {
      "cell_type": "markdown",
      "metadata": {},
      "source": [
        "### Studios"
      ]
    },
    {
      "cell_type": "code",
      "execution_count": 17,
      "metadata": {},
      "outputs": [],
      "source": [
        "cleaning = train[\"Studios\"].str.split(\", \",6, expand=True)\n",
        "cleaning.columns = ['Studio_0', 'Studio_1','Studio_2', 'Studio_3','Studio_4', 'Studio_5','Studio_6']\n",
        "train_1 = pd.concat([train['anime_id'], cleaning], axis=1)"
      ]
    },
    {
      "cell_type": "code",
      "execution_count": 18,
      "metadata": {},
      "outputs": [
        {
          "data": {
            "text/html": [
              "<div>\n",
              "<style scoped>\n",
              "    .dataframe tbody tr th:only-of-type {\n",
              "        vertical-align: middle;\n",
              "    }\n",
              "\n",
              "    .dataframe tbody tr th {\n",
              "        vertical-align: top;\n",
              "    }\n",
              "\n",
              "    .dataframe thead th {\n",
              "        text-align: right;\n",
              "    }\n",
              "</style>\n",
              "<table border=\"1\" class=\"dataframe\">\n",
              "  <thead>\n",
              "    <tr style=\"text-align: right;\">\n",
              "      <th></th>\n",
              "      <th>anime_id</th>\n",
              "      <th>Studio</th>\n",
              "      <th>Value</th>\n",
              "    </tr>\n",
              "  </thead>\n",
              "  <tbody>\n",
              "    <tr>\n",
              "      <th>0</th>\n",
              "      <td>0</td>\n",
              "      <td>Sunrise</td>\n",
              "      <td>1</td>\n",
              "    </tr>\n",
              "    <tr>\n",
              "      <th>1</th>\n",
              "      <td>1</td>\n",
              "      <td>Bones</td>\n",
              "      <td>1</td>\n",
              "    </tr>\n",
              "    <tr>\n",
              "      <th>2</th>\n",
              "      <td>2</td>\n",
              "      <td>Madhouse</td>\n",
              "      <td>1</td>\n",
              "    </tr>\n",
              "  </tbody>\n",
              "</table>\n",
              "</div>"
            ],
            "text/plain": [
              "   anime_id    Studio  Value\n",
              "0         0   Sunrise      1\n",
              "1         1     Bones      1\n",
              "2         2  Madhouse      1"
            ]
          },
          "execution_count": 18,
          "metadata": {},
          "output_type": "execute_result"
        }
      ],
      "source": [
        "train_unpivoted = train_1.melt(id_vars=['anime_id'], var_name='Type_Studios', value_name='Studio')\n",
        "train_unpivoted=train_unpivoted.assign(Value=1)\n",
        "#Eliminar columnas que no se usarán para el análisis\n",
        "train_unpivoted.drop(['Type_Studios'] , axis = 1 , inplace = True)\n",
        "train_unpivoted.head(3)"
      ]
    },
    {
      "cell_type": "code",
      "execution_count": 19,
      "metadata": {},
      "outputs": [],
      "source": [
        "train_pivoted = train_unpivoted.pivot_table(index=['anime_id'],columns=['Studio'],aggfunc='count',fill_value=0)\n",
        "train_pivoted.columns = train_pivoted.columns.droplevel(0) #remove amount\n",
        "train_pivoted = train_pivoted.reset_index().rename_axis(None, axis=1)\n",
        "train_pivoted.head(3)"
      ]
    },
    {
      "cell_type": "code",
      "execution_count": null,
      "metadata": {},
      "outputs": [
        {
          "data": {
            "text/html": [
              "<div>\n",
              "<style scoped>\n",
              "    .dataframe tbody tr th:only-of-type {\n",
              "        vertical-align: middle;\n",
              "    }\n",
              "\n",
              "    .dataframe tbody tr th {\n",
              "        vertical-align: top;\n",
              "    }\n",
              "\n",
              "    .dataframe thead th {\n",
              "        text-align: right;\n",
              "    }\n",
              "</style>\n",
              "<table border=\"1\" class=\"dataframe\">\n",
              "  <thead>\n",
              "    <tr style=\"text-align: right;\">\n",
              "      <th></th>\n",
              "      <th>anime_id</th>\n",
              "      <th>Type</th>\n",
              "      <th>Episodes</th>\n",
              "      <th>Rating</th>\n",
              "      <th>Start_season</th>\n",
              "      <th>Score</th>\n",
              "      <th>Action</th>\n",
              "      <th>Adventure</th>\n",
              "      <th>Cars</th>\n",
              "      <th>Comedy</th>\n",
              "      <th>...</th>\n",
              "      <th>feel.</th>\n",
              "      <th>helo.inc</th>\n",
              "      <th>iDRAGONS Creative Studio</th>\n",
              "      <th>ixtl</th>\n",
              "      <th>l-a-unch・BOX</th>\n",
              "      <th>monofilmo</th>\n",
              "      <th>pH Studio</th>\n",
              "      <th>production doA</th>\n",
              "      <th>teamKG</th>\n",
              "      <th>ufotable</th>\n",
              "    </tr>\n",
              "  </thead>\n",
              "  <tbody>\n",
              "    <tr>\n",
              "      <th>0</th>\n",
              "      <td>0</td>\n",
              "      <td>TV</td>\n",
              "      <td>26</td>\n",
              "      <td>R - 17+ (violence &amp; profanity)</td>\n",
              "      <td>Spring</td>\n",
              "      <td>8.78</td>\n",
              "      <td>1</td>\n",
              "      <td>1</td>\n",
              "      <td>0</td>\n",
              "      <td>1</td>\n",
              "      <td>...</td>\n",
              "      <td>0</td>\n",
              "      <td>0</td>\n",
              "      <td>0</td>\n",
              "      <td>0</td>\n",
              "      <td>0</td>\n",
              "      <td>0</td>\n",
              "      <td>0</td>\n",
              "      <td>0</td>\n",
              "      <td>0</td>\n",
              "      <td>0</td>\n",
              "    </tr>\n",
              "    <tr>\n",
              "      <th>1</th>\n",
              "      <td>1</td>\n",
              "      <td>Movie</td>\n",
              "      <td>1</td>\n",
              "      <td>R - 17+ (violence &amp; profanity)</td>\n",
              "      <td>Summer</td>\n",
              "      <td>8.39</td>\n",
              "      <td>1</td>\n",
              "      <td>0</td>\n",
              "      <td>0</td>\n",
              "      <td>0</td>\n",
              "      <td>...</td>\n",
              "      <td>0</td>\n",
              "      <td>0</td>\n",
              "      <td>0</td>\n",
              "      <td>0</td>\n",
              "      <td>0</td>\n",
              "      <td>0</td>\n",
              "      <td>0</td>\n",
              "      <td>0</td>\n",
              "      <td>0</td>\n",
              "      <td>0</td>\n",
              "    </tr>\n",
              "  </tbody>\n",
              "</table>\n",
              "<p>2 rows × 686 columns</p>\n",
              "</div>"
            ],
            "text/plain": [
              "   anime_id   Type  Episodes                          Rating Start_season  \\\n",
              "0         0     TV        26  R - 17+ (violence & profanity)       Spring   \n",
              "1         1  Movie         1  R - 17+ (violence & profanity)       Summer   \n",
              "\n",
              "   Score  Action  Adventure  Cars  Comedy  ...  feel.  helo.inc  \\\n",
              "0   8.78       1          1     0       1  ...      0         0   \n",
              "1   8.39       1          0     0       0  ...      0         0   \n",
              "\n",
              "   iDRAGONS Creative Studio  ixtl  l-a-unch・BOX  monofilmo  pH Studio  \\\n",
              "0                         0     0             0          0          0   \n",
              "1                         0     0             0          0          0   \n",
              "\n",
              "   production doA  teamKG  ufotable  \n",
              "0               0       0         0  \n",
              "1               0       0         0  \n",
              "\n",
              "[2 rows x 686 columns]"
            ]
          },
          "execution_count": 13,
          "metadata": {},
          "output_type": "execute_result"
        }
      ],
      "source": [
        "train_3 = pd.merge(train_2, train_pivoted, on='anime_id', how='outer')\n",
        "#Eliminar columnas que no se usarán para el análisis\n",
        "train_3.drop(['Studios'] , axis = 1 , inplace = True)\n",
        "train_3.head(2)"
      ]
    },
    {
      "cell_type": "markdown",
      "metadata": {},
      "source": [
        "### Otras variables categóricas"
      ]
    },
    {
      "cell_type": "code",
      "execution_count": null,
      "metadata": {},
      "outputs": [
        {
          "data": {
            "text/plain": [
              "anime_id           int64\n",
              "Type              object\n",
              "Episodes           int64\n",
              "Rating            object\n",
              "Start_season      object\n",
              "                   ...  \n",
              "monofilmo          int64\n",
              "pH Studio          int64\n",
              "production doA     int64\n",
              "teamKG             int64\n",
              "ufotable           int64\n",
              "Length: 686, dtype: object"
            ]
          },
          "execution_count": 14,
          "metadata": {},
          "output_type": "execute_result"
        }
      ],
      "source": [
        "train_3.dtypes"
      ]
    },
    {
      "cell_type": "code",
      "execution_count": null,
      "metadata": {},
      "outputs": [
        {
          "data": {
            "text/plain": [
              "anime_id          False\n",
              "Type               True\n",
              "Episodes          False\n",
              "Rating             True\n",
              "Start_season       True\n",
              "                  ...  \n",
              "monofilmo         False\n",
              "pH Studio         False\n",
              "production doA    False\n",
              "teamKG            False\n",
              "ufotable          False\n",
              "Length: 686, dtype: bool"
            ]
          },
          "execution_count": 15,
          "metadata": {},
          "output_type": "execute_result"
        }
      ],
      "source": [
        "# Para convertir las categóricas en binarias debemos pasarla primero a booleanas\n",
        "# evaluando si son del tipo object o category\n",
        "categorical_feature = (train_3.dtypes == \"category\") | (train_3.dtypes == object)\n",
        "categorical_feature"
      ]
    },
    {
      "cell_type": "code",
      "execution_count": null,
      "metadata": {},
      "outputs": [
        {
          "data": {
            "text/plain": [
              "['Type', 'Rating', 'Start_season']"
            ]
          },
          "execution_count": 16,
          "metadata": {},
          "output_type": "execute_result"
        }
      ],
      "source": [
        "categorical_cols = train_3.columns[categorical_feature].tolist()\n",
        "categorical_cols"
      ]
    },
    {
      "cell_type": "code",
      "execution_count": null,
      "metadata": {},
      "outputs": [],
      "source": [
        "for c in categorical_cols:\n",
        "    lbl = LabelEncoder() \n",
        "    lbl.fit(list(train_4[c].values)) \n",
        "    train_4[c] = lbl.transform(list(train_4[c].values))\n"
      ]
    },
    {
      "cell_type": "code",
      "execution_count": null,
      "metadata": {},
      "outputs": [
        {
          "data": {
            "text/html": [
              "<div>\n",
              "<style scoped>\n",
              "    .dataframe tbody tr th:only-of-type {\n",
              "        vertical-align: middle;\n",
              "    }\n",
              "\n",
              "    .dataframe tbody tr th {\n",
              "        vertical-align: top;\n",
              "    }\n",
              "\n",
              "    .dataframe thead th {\n",
              "        text-align: right;\n",
              "    }\n",
              "</style>\n",
              "<table border=\"1\" class=\"dataframe\">\n",
              "  <thead>\n",
              "    <tr style=\"text-align: right;\">\n",
              "      <th></th>\n",
              "      <th>anime_id</th>\n",
              "      <th>Type</th>\n",
              "      <th>Rating</th>\n",
              "      <th>Start_season</th>\n",
              "      <th>Score</th>\n",
              "      <th>Action</th>\n",
              "      <th>Adventure</th>\n",
              "      <th>Cars</th>\n",
              "      <th>Comedy</th>\n",
              "      <th>Dementia</th>\n",
              "      <th>...</th>\n",
              "      <th>helo.inc</th>\n",
              "      <th>iDRAGONS Creative Studio</th>\n",
              "      <th>ixtl</th>\n",
              "      <th>l-a-unch・BOX</th>\n",
              "      <th>monofilmo</th>\n",
              "      <th>pH Studio</th>\n",
              "      <th>production doA</th>\n",
              "      <th>teamKG</th>\n",
              "      <th>ufotable</th>\n",
              "      <th>range_episodes</th>\n",
              "    </tr>\n",
              "  </thead>\n",
              "  <tbody>\n",
              "    <tr>\n",
              "      <th>1</th>\n",
              "      <td>1</td>\n",
              "      <td>0</td>\n",
              "      <td>3</td>\n",
              "      <td>2</td>\n",
              "      <td>8.39</td>\n",
              "      <td>1</td>\n",
              "      <td>0</td>\n",
              "      <td>0</td>\n",
              "      <td>0</td>\n",
              "      <td>0</td>\n",
              "      <td>...</td>\n",
              "      <td>0</td>\n",
              "      <td>0</td>\n",
              "      <td>0</td>\n",
              "      <td>0</td>\n",
              "      <td>0</td>\n",
              "      <td>0</td>\n",
              "      <td>0</td>\n",
              "      <td>0</td>\n",
              "      <td>0</td>\n",
              "      <td>0</td>\n",
              "    </tr>\n",
              "  </tbody>\n",
              "</table>\n",
              "<p>1 rows × 686 columns</p>\n",
              "</div>"
            ],
            "text/plain": [
              "   anime_id  Type  Rating  Start_season  Score  Action  Adventure  Cars  \\\n",
              "1         1     0       3             2   8.39       1          0     0   \n",
              "\n",
              "   Comedy  Dementia  ...  helo.inc  iDRAGONS Creative Studio  ixtl  \\\n",
              "1       0         0  ...         0                         0     0   \n",
              "\n",
              "   l-a-unch・BOX  monofilmo  pH Studio  production doA  teamKG  ufotable  \\\n",
              "1             0          0          0               0       0         0   \n",
              "\n",
              "   range_episodes  \n",
              "1               0  \n",
              "\n",
              "[1 rows x 686 columns]"
            ]
          },
          "execution_count": 23,
          "metadata": {},
          "output_type": "execute_result"
        }
      ],
      "source": [
        "# Ver un regisro\n",
        "is_male = train_4.loc[:, 'anime_id'] == 1\n",
        "df_male = train_4.loc[is_male]\n",
        "df_male.head()"
      ]
    },
    {
      "cell_type": "code",
      "execution_count": null,
      "metadata": {},
      "outputs": [
        {
          "data": {
            "text/plain": [
              "anime_id            int64\n",
              "Type                int32\n",
              "Rating              int32\n",
              "Start_season        int32\n",
              "Score             float64\n",
              "                   ...   \n",
              "pH Studio           int64\n",
              "production doA      int64\n",
              "teamKG              int64\n",
              "ufotable            int64\n",
              "range_episodes      int32\n",
              "Length: 686, dtype: object"
            ]
          },
          "execution_count": 24,
          "metadata": {},
          "output_type": "execute_result"
        }
      ],
      "source": [
        "train_4.dtypes"
      ]
    },
    {
      "cell_type": "markdown",
      "metadata": {},
      "source": [
        "## Seleccionar Variables"
      ]
    },
    {
      "cell_type": "code",
      "execution_count": null,
      "metadata": {},
      "outputs": [],
      "source": [
        "# X = train_4.drop(['Score','anime_id'], axis=1)\n",
        "X = train_4.drop(['Score'], axis=1)\n",
        "y = train_4['Score']"
      ]
    },
    {
      "cell_type": "markdown",
      "metadata": {},
      "source": [
        "## Entrenar el modelo"
      ]
    },
    {
      "cell_type": "code",
      "execution_count": null,
      "metadata": {},
      "outputs": [],
      "source": [
        "from sklearn.linear_model import ElasticNet, Lasso,  BayesianRidge, LassoLarsIC\n",
        "from sklearn.ensemble import RandomForestRegressor,  GradientBoostingRegressor\n",
        "from sklearn.kernel_ridge import KernelRidge\n",
        "from sklearn.pipeline import make_pipeline\n",
        "from sklearn.preprocessing import RobustScaler\n",
        "from sklearn.base import BaseEstimator, TransformerMixin, RegressorMixin, clone\n",
        "from sklearn.model_selection import KFold, cross_val_score, train_test_split\n",
        "from sklearn.metrics import mean_squared_error\n",
        "from sklearn.linear_model import LinearRegression\n",
        "import xgboost as xgb\n",
        "import lightgbm as lgb"
      ]
    },
    {
      "cell_type": "code",
      "execution_count": null,
      "metadata": {},
      "outputs": [],
      "source": [
        "X_train, X_test, y_train, y_test = train_test_split(X, y, test_size = 0.20, random_state = 42)"
      ]
    },
    {
      "cell_type": "code",
      "execution_count": null,
      "metadata": {},
      "outputs": [
        {
          "name": "stdout",
          "output_type": "stream",
          "text": [
            "X_train shape: (7266, 685) | X_test shape: (1817, 685)\n",
            "y_train mean: 6.74 | y_test mean: 6.74\n"
          ]
        }
      ],
      "source": [
        "## print informacion\n",
        "print(\"X_train shape:\", X_train.shape, \"| X_test shape:\", X_test.shape)\n",
        "print(\"y_train mean:\", round(np.mean(y_train),2), \"| y_test mean:\", round(np.mean(y_test),2))"
      ]
    },
    {
      "cell_type": "code",
      "execution_count": 43,
      "metadata": {},
      "outputs": [],
      "source": [
        "# n_folds = 5\n",
        "\n",
        "# def rmsle_cv(model):\n",
        "#     kf = KFold(n_folds, shuffle=True, random_state=42).get_n_splits(X_train.values)\n",
        "#     rmse= np.sqrt(-cross_val_score(model, X_train.values, y_train, scoring=\"neg_mean_squared_error\", cv = kf))\n",
        "#     return(rmse)"
      ]
    },
    {
      "cell_type": "markdown",
      "metadata": {},
      "source": [
        "**Linear Reggression**"
      ]
    },
    {
      "cell_type": "code",
      "execution_count": 44,
      "metadata": {},
      "outputs": [
        {
          "name": "stdout",
          "output_type": "stream",
          "text": [
            "\n",
            "Linear score: 2345597.0320 (3921564.2368)\n",
            "\n"
          ]
        }
      ],
      "source": [
        "#Linear Regression\n",
        "lm = LinearRegression()\n",
        "lm.fit(X_train, y_train)\n",
        "score = rmsle_cv(lm)\n",
        "print(\"\\nLinear score: {:.4f} ({:.4f})\\n\".format(score.mean(), score.std()))"
      ]
    },
    {
      "cell_type": "markdown",
      "metadata": {},
      "source": [
        "**Lasso Regression**"
      ]
    },
    {
      "cell_type": "code",
      "execution_count": 45,
      "metadata": {},
      "outputs": [
        {
          "name": "stdout",
          "output_type": "stream",
          "text": [
            "\n",
            "Lasso score: 0.6787 (0.0186)\n",
            "\n"
          ]
        }
      ],
      "source": [
        "lasso = make_pipeline(RobustScaler(), Lasso(alpha =0.0005, random_state=1))\n",
        "score = rmsle_cv(lasso)\n",
        "print(\"\\nLasso score: {:.4f} ({:.4f})\\n\".format(score.mean(), score.std()))"
      ]
    },
    {
      "cell_type": "markdown",
      "metadata": {},
      "source": [
        "**Elastic Net Regression**"
      ]
    },
    {
      "cell_type": "code",
      "execution_count": 46,
      "metadata": {},
      "outputs": [
        {
          "name": "stdout",
          "output_type": "stream",
          "text": [
            "ElasticNet score: 0.6779 (0.0185)\n",
            "\n"
          ]
        }
      ],
      "source": [
        "ENet = make_pipeline(RobustScaler(), ElasticNet(alpha=0.0005, l1_ratio=.9, random_state=3))\n",
        "score = rmsle_cv(ENet)\n",
        "print(\"ElasticNet score: {:.4f} ({:.4f})\\n\".format(score.mean(), score.std()))"
      ]
    },
    {
      "cell_type": "markdown",
      "metadata": {},
      "source": [
        "**Kernel Ridge Regression**"
      ]
    },
    {
      "cell_type": "code",
      "execution_count": 47,
      "metadata": {},
      "outputs": [
        {
          "name": "stdout",
          "output_type": "stream",
          "text": [
            "Kernel Ridge score: 0.7303 (0.0873)\n",
            "\n"
          ]
        }
      ],
      "source": [
        "KRR = KernelRidge(alpha=0.6, kernel='polynomial', degree=2, coef0=2.5)\n",
        "score = rmsle_cv(KRR)\n",
        "print(\"Kernel Ridge score: {:.4f} ({:.4f})\\n\".format(score.mean(), score.std()))"
      ]
    },
    {
      "cell_type": "markdown",
      "metadata": {},
      "source": [
        "**Gradient Boosting Regression**"
      ]
    },
    {
      "cell_type": "code",
      "execution_count": 48,
      "metadata": {},
      "outputs": [
        {
          "name": "stdout",
          "output_type": "stream",
          "text": [
            "Gradient Boosting score: 0.6271 (0.0141)\n",
            "\n"
          ]
        }
      ],
      "source": [
        "GBoost = GradientBoostingRegressor(n_estimators=3000, learning_rate=0.05,\n",
        "                                   max_depth=4, max_features='sqrt',\n",
        "                                   min_samples_leaf=15, min_samples_split=10, \n",
        "                                   loss='huber', random_state =5)\n",
        "score = rmsle_cv(GBoost)\n",
        "print(\"Gradient Boosting score: {:.4f} ({:.4f})\\n\".format(score.mean(), score.std()))"
      ]
    },
    {
      "cell_type": "markdown",
      "metadata": {},
      "source": [
        "**XGBoost Regression**"
      ]
    },
    {
      "cell_type": "code",
      "execution_count": 49,
      "metadata": {},
      "outputs": [
        {
          "name": "stdout",
          "output_type": "stream",
          "text": [
            "Xgboost score: 0.6107 (0.0128)\n",
            "\n"
          ]
        }
      ],
      "source": [
        "model_xgb = xgb.XGBRegressor(colsample_bytree=0.4603, gamma=0.0468, \n",
        "                             learning_rate=0.05, max_depth=3, \n",
        "                             min_child_weight=1.7817, n_estimators=2200,\n",
        "                             reg_alpha=0.4640, reg_lambda=0.8571,\n",
        "                             subsample=0.5213, silent=1,\n",
        "                             random_state =7, nthread = -1, verbosity=0)\n",
        "score = rmsle_cv(model_xgb)\n",
        "print(\"Xgboost score: {:.4f} ({:.4f})\\n\".format(score.mean(), score.std()))"
      ]
    },
    {
      "cell_type": "markdown",
      "metadata": {},
      "source": [
        "**LGBM**"
      ]
    },
    {
      "cell_type": "code",
      "execution_count": 50,
      "metadata": {},
      "outputs": [
        {
          "name": "stdout",
          "output_type": "stream",
          "text": [
            "[LightGBM] [Warning] feature_fraction is set=0.2319, colsample_bytree=1.0 will be ignored. Current value: feature_fraction=0.2319\n",
            "[LightGBM] [Warning] min_data_in_leaf is set=6, min_child_samples=20 will be ignored. Current value: min_data_in_leaf=6\n",
            "[LightGBM] [Warning] min_sum_hessian_in_leaf is set=11, min_child_weight=0.001 will be ignored. Current value: min_sum_hessian_in_leaf=11\n",
            "[LightGBM] [Warning] bagging_fraction is set=0.8, subsample=1.0 will be ignored. Current value: bagging_fraction=0.8\n",
            "[LightGBM] [Warning] bagging_freq is set=5, subsample_freq=0 will be ignored. Current value: bagging_freq=5\n",
            "[LightGBM] [Warning] feature_fraction is set=0.2319, colsample_bytree=1.0 will be ignored. Current value: feature_fraction=0.2319\n",
            "[LightGBM] [Warning] min_data_in_leaf is set=6, min_child_samples=20 will be ignored. Current value: min_data_in_leaf=6\n",
            "[LightGBM] [Warning] min_sum_hessian_in_leaf is set=11, min_child_weight=0.001 will be ignored. Current value: min_sum_hessian_in_leaf=11\n",
            "[LightGBM] [Warning] bagging_fraction is set=0.8, subsample=1.0 will be ignored. Current value: bagging_fraction=0.8\n",
            "[LightGBM] [Warning] bagging_freq is set=5, subsample_freq=0 will be ignored. Current value: bagging_freq=5\n",
            "[LightGBM] [Warning] feature_fraction is set=0.2319, colsample_bytree=1.0 will be ignored. Current value: feature_fraction=0.2319\n",
            "[LightGBM] [Warning] min_data_in_leaf is set=6, min_child_samples=20 will be ignored. Current value: min_data_in_leaf=6\n",
            "[LightGBM] [Warning] min_sum_hessian_in_leaf is set=11, min_child_weight=0.001 will be ignored. Current value: min_sum_hessian_in_leaf=11\n",
            "[LightGBM] [Warning] bagging_fraction is set=0.8, subsample=1.0 will be ignored. Current value: bagging_fraction=0.8\n",
            "[LightGBM] [Warning] bagging_freq is set=5, subsample_freq=0 will be ignored. Current value: bagging_freq=5\n",
            "[LightGBM] [Warning] feature_fraction is set=0.2319, colsample_bytree=1.0 will be ignored. Current value: feature_fraction=0.2319\n",
            "[LightGBM] [Warning] min_data_in_leaf is set=6, min_child_samples=20 will be ignored. Current value: min_data_in_leaf=6\n",
            "[LightGBM] [Warning] min_sum_hessian_in_leaf is set=11, min_child_weight=0.001 will be ignored. Current value: min_sum_hessian_in_leaf=11\n",
            "[LightGBM] [Warning] bagging_fraction is set=0.8, subsample=1.0 will be ignored. Current value: bagging_fraction=0.8\n",
            "[LightGBM] [Warning] bagging_freq is set=5, subsample_freq=0 will be ignored. Current value: bagging_freq=5\n",
            "[LightGBM] [Warning] feature_fraction is set=0.2319, colsample_bytree=1.0 will be ignored. Current value: feature_fraction=0.2319\n",
            "[LightGBM] [Warning] min_data_in_leaf is set=6, min_child_samples=20 will be ignored. Current value: min_data_in_leaf=6\n",
            "[LightGBM] [Warning] min_sum_hessian_in_leaf is set=11, min_child_weight=0.001 will be ignored. Current value: min_sum_hessian_in_leaf=11\n",
            "[LightGBM] [Warning] bagging_fraction is set=0.8, subsample=1.0 will be ignored. Current value: bagging_fraction=0.8\n",
            "[LightGBM] [Warning] bagging_freq is set=5, subsample_freq=0 will be ignored. Current value: bagging_freq=5\n",
            "LGBM score: 0.6426 (0.0165)\n",
            "\n"
          ]
        }
      ],
      "source": [
        "model_lgb = lgb.LGBMRegressor(objective='regression',num_leaves=5,\n",
        "                              learning_rate=0.05, n_estimators=720,\n",
        "                              max_bin = 55, bagging_fraction = 0.8,\n",
        "                              bagging_freq = 5, feature_fraction = 0.2319,\n",
        "                              feature_fraction_seed=9, bagging_seed=9,\n",
        "                              min_data_in_leaf =6, min_sum_hessian_in_leaf = 11)\n",
        "score = rmsle_cv(model_lgb)\n",
        "print(\"LGBM score: {:.4f} ({:.4f})\\n\" .format(score.mean(), score.std()))"
      ]
    },
    {
      "cell_type": "markdown",
      "metadata": {},
      "source": [
        "# Fitting the best model and getting the predictions array"
      ]
    },
    {
      "cell_type": "code",
      "execution_count": 51,
      "metadata": {
        "execution": {
          "iopub.execute_input": "2022-01-17T09:07:54.211190Z",
          "iopub.status.busy": "2022-01-17T09:07:54.204241Z",
          "iopub.status.idle": "2022-01-17T09:08:02.748220Z",
          "shell.execute_reply": "2022-01-17T09:08:02.747243Z",
          "shell.execute_reply.started": "2022-01-17T09:07:54.211115Z"
        },
        "trusted": true
      },
      "outputs": [],
      "source": [
        "model_xgb.fit(X_train,y_train)\n",
        "xgb_pred = model_xgb.predict(X_test)\n"
      ]
    },
    {
      "cell_type": "code",
      "execution_count": 56,
      "metadata": {
        "execution": {
          "iopub.execute_input": "2022-01-17T09:08:02.749759Z",
          "iopub.status.busy": "2022-01-17T09:08:02.749542Z",
          "iopub.status.idle": "2022-01-17T09:08:02.755474Z",
          "shell.execute_reply": "2022-01-17T09:08:02.754574Z",
          "shell.execute_reply.started": "2022-01-17T09:08:02.749733Z"
        },
        "trusted": true
      },
      "outputs": [],
      "source": [
        "result_xgb = pd.DataFrame({'Y_TEST':y_test.values,'Y_PRED' : pd.Series(xgb_pred).values})\n",
        "result_xgb"
      ]
    },
    {
      "cell_type": "code",
      "execution_count": 58,
      "metadata": {},
      "outputs": [],
      "source": [
        "GBoost.fit(X_train,y_train)\n",
        "GBoost_pred = GBoost.predict(X_test)"
      ]
    },
    {
      "cell_type": "code",
      "execution_count": 62,
      "metadata": {},
      "outputs": [],
      "source": [
        "lasso.fit(X_train,y_train)\n",
        "lasso_pred = lasso.predict(X_test)"
      ]
    },
    {
      "cell_type": "code",
      "execution_count": 64,
      "metadata": {},
      "outputs": [],
      "source": [
        "ENet.fit(X_train,y_train)\n",
        "ENet_pred = ENet.predict(X_test)"
      ]
    },
    {
      "cell_type": "code",
      "execution_count": 67,
      "metadata": {},
      "outputs": [],
      "source": [
        "KRR.fit(X_train,y_train)\n",
        "KRR_pred = KRR.predict(X_test)"
      ]
    },
    {
      "cell_type": "markdown",
      "metadata": {},
      "source": [
        "### Métricas del modelo"
      ]
    },
    {
      "cell_type": "code",
      "execution_count": 54,
      "metadata": {},
      "outputs": [],
      "source": [
        "from sklearn.metrics import mean_absolute_error as mae"
      ]
    },
    {
      "cell_type": "code",
      "execution_count": 55,
      "metadata": {},
      "outputs": [
        {
          "data": {
            "text/plain": [
              "0.4658208870990452"
            ]
          },
          "execution_count": 55,
          "metadata": {},
          "output_type": "execute_result"
        }
      ],
      "source": [
        "mae(y_test, xgb_pred)"
      ]
    },
    {
      "cell_type": "code",
      "execution_count": 59,
      "metadata": {},
      "outputs": [
        {
          "data": {
            "text/plain": [
              "0.4778890770272293"
            ]
          },
          "execution_count": 59,
          "metadata": {},
          "output_type": "execute_result"
        }
      ],
      "source": [
        "mae(y_test, GBoost_pred)"
      ]
    },
    {
      "cell_type": "code",
      "execution_count": 63,
      "metadata": {},
      "outputs": [
        {
          "data": {
            "text/plain": [
              "0.5241479906963852"
            ]
          },
          "execution_count": 63,
          "metadata": {},
          "output_type": "execute_result"
        }
      ],
      "source": [
        "mae(y_test, lasso_pred)"
      ]
    },
    {
      "cell_type": "code",
      "execution_count": 65,
      "metadata": {},
      "outputs": [
        {
          "data": {
            "text/plain": [
              "0.5235683285770798"
            ]
          },
          "execution_count": 65,
          "metadata": {},
          "output_type": "execute_result"
        }
      ],
      "source": [
        "mae(y_test, ENet_pred)"
      ]
    },
    {
      "cell_type": "code",
      "execution_count": 68,
      "metadata": {},
      "outputs": [
        {
          "data": {
            "text/plain": [
              "0.5171850364767213"
            ]
          },
          "execution_count": 68,
          "metadata": {},
          "output_type": "execute_result"
        }
      ],
      "source": [
        "mae(y_test, KRR_pred)"
      ]
    }
  ],
  "metadata": {
    "colab": {
      "authorship_tag": "ABX9TyNDAHHWr5PoKmlLYQA6Sqyb",
      "collapsed_sections": [],
      "include_colab_link": true,
      "name": "Anime list.ipynb",
      "provenance": []
    },
    "interpreter": {
      "hash": "181c29d4ff801b5a45d64bc34d3cfbc1fecd65c71ee2d27537cb6c0fce261355"
    },
    "kernelspec": {
      "display_name": "Python 3.7.4 64-bit",
      "language": "python",
      "name": "python3"
    },
    "language_info": {
      "codemirror_mode": {
        "name": "ipython",
        "version": 3
      },
      "file_extension": ".py",
      "mimetype": "text/x-python",
      "name": "python",
      "nbconvert_exporter": "python",
      "pygments_lexer": "ipython3",
      "version": "3.7.4"
    }
  },
  "nbformat": 4,
  "nbformat_minor": 0
}
